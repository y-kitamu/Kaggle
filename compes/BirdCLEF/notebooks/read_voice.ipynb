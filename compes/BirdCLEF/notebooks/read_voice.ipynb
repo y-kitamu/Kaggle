{
 "cells": [
  {
   "cell_type": "code",
   "execution_count": null,
   "id": "052695a8",
   "metadata": {},
   "outputs": [],
   "source": [
    "import tensorflow as tf\n",
    "import tensorflow_io as tfio\n",
    "\n",
    "audio = tfio.audio.AudioIOTensor(\n",
    "    \"/home/kitamura/work/Kaggle/BirdCLEF/data/train_short_audio/acafly/XC109605.ogg\")"
   ]
  },
  {
   "cell_type": "code",
   "execution_count": null,
   "id": "e326af36",
   "metadata": {},
   "outputs": [],
   "source": [
    "audio_slice = audio[:]\n",
    "audio_tensor = tf.squeeze(audio_slice, axis=[-1])\n",
    "print(audio_tensor)"
   ]
  },
  {
   "cell_type": "code",
   "execution_count": null,
   "id": "45e77b38",
   "metadata": {},
   "outputs": [],
   "source": [
    "import matplotlib.pyplot as plt\n",
    "\n",
    "plt.plot(audio_tensor.numpy())"
   ]
  },
  {
   "cell_type": "code",
   "execution_count": null,
   "id": "24c0c9a3",
   "metadata": {},
   "outputs": [],
   "source": [
    "position = tfio.experimental.audio.trim(audio_tensor, axis=0, epsilon=0.1)\n",
    "print(position)\n",
    "\n",
    "start, stop = position[0], position[1]\n",
    "print(start, stop)\n",
    "\n",
    "processed = audio_tensor[start:stop]\n",
    "plt.plot(processed.numpy())"
   ]
  },
  {
   "cell_type": "code",
   "execution_count": null,
   "id": "46e3eec0",
   "metadata": {},
   "outputs": [],
   "source": [
    "fade = tfio.experimental.audio.fade(\n",
    "    processed, fade_in=1000, fade_out=2000, mode=\"logarithmic\")\n",
    "plt.plot(fade.numpy())"
   ]
  },
  {
   "cell_type": "code",
   "execution_count": null,
   "id": "4c45d2b3",
   "metadata": {},
   "outputs": [],
   "source": [
    "spectrogram = tfio.experimental.audio.spectrogram(\n",
    "    fade, nfft=1024, window=1024, stride=2048\n",
    ")\n",
    "\n",
    "plt.figure()\n",
    "plt.imshow(tf.math.log(spectrogram).numpy())"
   ]
  },
  {
   "cell_type": "code",
   "execution_count": null,
   "id": "d57ceb33",
   "metadata": {},
   "outputs": [],
   "source": [
    "mel_spectrogram = tfio.experimental.audio.melscale(\n",
    "    spectrogram, rate=16000, mels=128, fmin=0, fmax=8000)\n",
    "\n",
    "plt.figure()\n",
    "plt.imshow(tf.math.log(mel_spectrogram).numpy())\n",
    "\n",
    "dbscale_mel_spectrogram = tfio.experimental.audio.dbscale(\n",
    "    mel_spectrogram, top_db=80)\n",
    "\n",
    "plt.figure()\n"
   ]
  },
  {
   "cell_type": "code",
   "execution_count": null,
   "id": "6fa141fe",
   "metadata": {},
   "outputs": [],
   "source": []
  }
 ],
 "metadata": {
  "language_info": {
   "name": "python",
   "pygments_lexer": "ipython3"
  }
 },
 "nbformat": 4,
 "nbformat_minor": 5
}
