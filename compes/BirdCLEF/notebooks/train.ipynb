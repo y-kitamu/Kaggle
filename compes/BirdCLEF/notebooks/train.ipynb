{
 "cells": [
  {
   "cell_type": "code",
   "execution_count": null,
   "id": "d0b8858d",
   "metadata": {},
   "outputs": [],
   "source": [
    "import clef"
   ]
  },
  {
   "cell_type": "code",
   "execution_count": null,
   "id": "dcb90b49",
   "metadata": {},
   "outputs": [],
   "source": [
    "with clef.utility.LogLevel(20):\n",
    "    config = clef.config.read_cfg(clef.constant.PARAM_PATH / \"v0.yaml\")\n",
    "    task = clef.tasks.ClefTask(config.task)\n",
    "    trainer = clef.trainer.Trainer(config.trainer, task)\n",
    "    controller = clef.controller.Controller(config, trainer)"
   ]
  },
  {
   "cell_type": "code",
   "execution_count": null,
   "id": "66e1b17e",
   "metadata": {},
   "outputs": [],
   "source": [
    "for d, l in trainer.train_dataset.take(1):\n",
    "    break"
   ]
  },
  {
   "cell_type": "code",
   "execution_count": null,
   "id": "aca40684",
   "metadata": {},
   "outputs": [],
   "source": [
    "controller.train()"
   ]
  },
  {
   "cell_type": "code",
   "execution_count": null,
   "id": "f4012f54",
   "metadata": {},
   "outputs": [],
   "source": [
    "trainer.validation_dataset"
   ]
  }
 ],
 "metadata": {
  "language_info": {
   "name": "python",
   "pygments_lexer": "ipython3"
  }
 },
 "nbformat": 4,
 "nbformat_minor": 5
}
