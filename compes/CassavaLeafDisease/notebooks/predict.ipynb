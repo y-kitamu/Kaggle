{
 "cells": [
  {
   "cell_type": "code",
   "execution_count": null,
   "metadata": {},
   "outputs": [],
   "source": [
    "!pip install -e ../"
   ]
  },
  {
   "cell_type": "code",
   "execution_count": null,
   "metadata": {},
   "outputs": [],
   "source": [
    "!pip install -r ../requirements.txt"
   ]
  },
  {
   "cell_type": "code",
   "execution_count": null,
   "metadata": {},
   "outputs": [],
   "source": [
    "from pathlib import Path\n",
    "import logging\n",
    "\n",
    "import src\n",
    "\n",
    "logging.basicConfig(format='%(asctime)s %(message)s', datefmt='%m/%d/%Y %I:%M:%S %p', level=logging.INFO)"
   ]
  },
  {
   "cell_type": "code",
   "execution_count": null,
   "metadata": {},
   "outputs": [],
   "source": [
    "config_name = \"config_v3.yaml\"\n",
    "\n",
    "cfg = src.utility.run_debug(\n",
    "    lambda: src.utility.load_config(config_name)\n",
    ")\n",
    "# cfg[\"gpu\"] = 0\n",
    "# cfg[\"train\"][\"val_batch_size\"] = 1\n",
    "\n",
    "dataset, _ = src.dataset.get_train_val_dataset(cfg,\n",
    "                                               data_dir=src.constant.DATA_ROOT / \"train_images\",\n",
    "                                               csv_fname=src.constant.DATA_ROOT / \"train.csv\",\n",
    "                                               is_train=False)\n",
    "result_dir = src.constant.OUTPUT_ROOT / cfg.title\n",
    "model_weights = [\"best_val_acc0.hdf5\"]\n",
    "models = [src.predict.get_and_load_model(cfg, result_dir / model_name) for model_name in model_weights]\n",
    "preds, labels = src.predict.predict(dataset=dataset, models=models)"
   ]
  },
  {
   "cell_type": "markdown",
   "metadata": {},
   "source": [
    "## XGBoostお試し"
   ]
  },
  {
   "cell_type": "code",
   "execution_count": null,
   "metadata": {},
   "outputs": [],
   "source": [
    "import optuna\n",
    "import xgboost as xgb\n",
    "from sklearn.model_selection import train_test_split"
   ]
  },
  {
   "cell_type": "code",
   "execution_count": null,
   "metadata": {},
   "outputs": [],
   "source": [
    "param_dist = {\n",
    "    'num_class': cfg.n_classes,\n",
    "    'max_depth': 10,\n",
    "    'objective':'multi:softmax',\n",
    "    'n_estimators': 1000,\n",
    "}\n",
    "\n",
    "clf = xgb.XGBClassifier(**param_dist)\n",
    "\n",
    "X_train, X_test, y_train, y_test = train_test_split(preds, labels.argmax(axis=1), test_size=0.2)\n",
    "\n",
    "clf.fit(X_train, y_train,\n",
    "        eval_set=[(X_train, y_train), (X_test, y_test)],\n",
    "        eval_metric='mlogloss',\n",
    "        early_stopping_rounds=5,\n",
    "        verbose=True)\n",
    "\n",
    "evals_result = clf.evals_result()"
   ]
  },
  {
   "cell_type": "code",
   "execution_count": null,
   "metadata": {},
   "outputs": [],
   "source": []
  }
 ],
 "metadata": {
  "language_info": {
   "name": "python",
   "pygments_lexer": "ipython3"
  }
 },
 "nbformat": 4,
 "nbformat_minor": 4
}
