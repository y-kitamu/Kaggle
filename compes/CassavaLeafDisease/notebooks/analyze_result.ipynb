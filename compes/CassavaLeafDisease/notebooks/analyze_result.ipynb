{
 "cells": [
  {
   "cell_type": "markdown",
   "metadata": {},
   "source": [
    "# 結果の解析"
   ]
  },
  {
   "cell_type": "code",
   "execution_count": null,
   "metadata": {},
   "outputs": [],
   "source": [
    "import os\n",
    "from pathlib import Path\n",
    "import logging\n",
    "\n",
    "from sklearn.metrics import accuracy_score, classification_report\n",
    "import matplotlib.pyplot as plt\n",
    "\n",
    "import src\n",
    "\n",
    "logging.basicConfig(format='%(asctime)s %(message)s', datefmt='%m/%d/%Y %I:%M:%S %p', level=logging.INFO)"
   ]
  },
  {
   "cell_type": "code",
   "execution_count": null,
   "metadata": {},
   "outputs": [],
   "source": [
    "config_dir = Path(\"../confs\").resolve()\n",
    "config_name = \"config_baseline.yaml\"\n",
    "cfg = src.train.train.get_config_instance(config_name, config_dir)\n",
    "ds, _ = src.dataset.get_train_val_dataset(cfg)"
   ]
  },
  {
   "cell_type": "code",
   "execution_count": null,
   "metadata": {},
   "outputs": [],
   "source": [
    "image_width = 512\n",
    "image_height = 512\n",
    "idx = 1\n",
    "img0 = src.dataset.preprocess(os.path.join(ds.data_dir, ds.filenames[idx]), image_width, image_height, True)\n",
    "img1 = src.dataset.preprocess(os.path.join(ds.data_dir, ds.filenames[idx]), image_width, image_height, True)\n",
    "plt.imshow(img0[:, :, ::-1])\n",
    "plt.show()\n",
    "plt.imshow(img1[:, :, ::-1])\n",
    "plt.show()\n"
   ]
  },
  {
   "cell_type": "code",
   "execution_count": null,
   "metadata": {},
   "outputs": [],
   "source": [
    "src.utility.run_debug(\n",
    "    lambda: src.visualize.plot.plot_images_per_class()\n",
    ")"
   ]
  },
  {
   "cell_type": "code",
   "execution_count": null,
   "metadata": {},
   "outputs": [],
   "source": []
  },
  {
   "cell_type": "markdown",
   "metadata": {},
   "source": [
    "## 精度の計算"
   ]
  },
  {
   "cell_type": "code",
   "execution_count": null,
   "metadata": {},
   "outputs": [],
   "source": [
    "model_weights = [\n",
    "    \"best_val_acc0.hdf5\",\n",
    "    \"best_val_acc1.hdf5\",\n",
    "    \"best_val_acc2.hdf5\",\n",
    "    \"best_val_acc3.hdf5\",\n",
    "    \"best_val_acc4.hdf5\",\n",
    "]\n",
    "preds, trues, fnames = src.predict.predict_for_submission(cfg, ds, output_filename=None)"
   ]
  },
  {
   "cell_type": "code",
   "execution_count": null,
   "metadata": {},
   "outputs": [],
   "source": [
    "acc = accuracy_score(trues.argmax(axis=1), preds.argmax(axis=1))\n",
    "print(classification_report(trues.argmax(axis=1), preds.argmax(axis=1)))"
   ]
  },
  {
   "cell_type": "code",
   "execution_count": null,
   "metadata": {},
   "outputs": [],
   "source": []
  },
  {
   "cell_type": "code",
   "execution_count": null,
   "metadata": {},
   "outputs": [],
   "source": []
  }
 ],
 "metadata": {
  "language_info": {
   "name": "python",
   "pygments_lexer": "ipython3"
  }
 },
 "nbformat": 4,
 "nbformat_minor": 4
}
