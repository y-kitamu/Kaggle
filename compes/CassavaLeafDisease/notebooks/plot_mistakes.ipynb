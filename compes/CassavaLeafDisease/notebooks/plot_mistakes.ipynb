{
 "cells": [
  {
   "cell_type": "code",
   "execution_count": null,
   "metadata": {},
   "outputs": [],
   "source": [
    "!pip install -e ../"
   ]
  },
  {
   "cell_type": "code",
   "execution_count": null,
   "metadata": {},
   "outputs": [],
   "source": [
    "from pathlib import Path\n",
    "import logging\n",
    "\n",
    "from sklearn.metrics import plot_confusion_matrix\n",
    "\n",
    "import src\n",
    "\n",
    "logging.basicConfig(format='%(asctime)s %(message)s', datefmt='%m/%d/%Y %I:%M:%S %p', level=logging.INFO)"
   ]
  },
  {
   "cell_type": "markdown",
   "metadata": {},
   "source": [
    "## config ファイルのロード"
   ]
  },
  {
   "cell_type": "code",
   "execution_count": null,
   "metadata": {},
   "outputs": [],
   "source": [
    "config_dir = Path(\"../confs\").resolve()\n",
    "config_name = \"config.yaml\"\n",
    "\n",
    "cfg = src.train.get_config_instance(config_name, config_dir)\n",
    "cfg.gpu = 0"
   ]
  },
  {
   "cell_type": "markdown",
   "metadata": {},
   "source": [
    "## データセットのロード"
   ]
  },
  {
   "cell_type": "code",
   "execution_count": null,
   "metadata": {},
   "outputs": [],
   "source": [
    "train_ds, _ = src.dataset.get_train_val_dataset(cfg, is_train=False)"
   ]
  },
  {
   "cell_type": "markdown",
   "metadata": {},
   "source": [
    "## 推論実行"
   ]
  },
  {
   "cell_type": "code",
   "execution_count": null,
   "metadata": {},
   "outputs": [],
   "source": [
    "preds, labels = src.evaluate.evaluate(cfg, train_ds, 0)"
   ]
  },
  {
   "cell_type": "markdown",
   "metadata": {},
   "source": [
    "## confusion matrix"
   ]
  },
  {
   "cell_type": "code",
   "execution_count": null,
   "metadata": {},
   "outputs": [],
   "source": [
    "import numpy as np\n",
    "import matplotlib.pyplot as plt\n",
    "from sklearn.metrics import confusion_matrix, ConfusionMatrixDisplay, classification_report\n",
    "\n",
    "\n",
    "if len(preds.shape) == 2:\n",
    "    ps = preds.argmax(axis=1)\n",
    "if len(labels.shape) == 2:\n",
    "    ls = labels.argmax(axis=1)\n",
    "    \n",
    "print(classification_report(labels.argmax(axis=1), preds.argmax(axis=1)))\n",
    "\n",
    "cm = confusion_matrix(ls, ps, normalize='true')\n",
    "cmd = ConfusionMatrixDisplay(cm).plot(cmap=\"Blues\")\n",
    "\n",
    "cm = confusion_matrix(ls, ps, normalize=None)\n",
    "cmd = ConfusionMatrixDisplay(cm).plot(cmap=\"Blues\")"
   ]
  }
 ],
 "metadata": {
  "language_info": {
   "name": "python",
   "pygments_lexer": "ipython3"
  }
 },
 "nbformat": 4,
 "nbformat_minor": 4
}
