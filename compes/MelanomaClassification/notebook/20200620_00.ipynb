{
 "cells": [
  {
   "cell_type": "markdown",
   "metadata": {},
   "source": [
    "\n",
    "## 20200620_00\n",
    "malignant を upsampling して、bening とほぼ同じ数まで増やして学習  \n",
    "cross validation で、5つのモデルの予測値から最終的な予測値を決定"
   ]
  },
  {
   "cell_type": "code",
   "execution_count": null,
   "metadata": {},
   "outputs": [],
   "source": [
    "import chainer\n",
    "from chainer.dataset import convert\n",
    "\n",
    "import melanoma\n",
    "\n",
    "title = \"20200620_00\"\n",
    "\n",
    "device = 0\n",
    "batch_size = 32\n",
    "width = 336\n",
    "height = 224\n",
    "epoch = 10\n",
    "n_classes = 2\n",
    "output_dir = melanoma.constants.PROJECT_ROOT / \"results\" / title\n",
    "transfered_weights = None\n",
    "n_folds = 5\n",
    "\n",
    "model = melanoma.models.EfficientNet()\n",
    "loss_func = melanoma.models.loss.get_sigmoid_loss_func(model)\n",
    "optimizer = chainer.optimizers.Adam()\n",
    "predictor = melanoma.predictor.Predictor(model, (width, height))\n",
    "\n",
    "if device >= 0:\n",
    "    model.to_gpu(device)\n",
    "\n",
    "optimizer.setup(model)\n",
    "\n",
    "dataset_gen = melanoma.dataset.DatasetBuilder(img_size=(width, height), n_classes=n_classes).get_cross_validation_dataset_generator(n_folds)"
   ]
  },
  {
   "cell_type": "code",
   "execution_count": null,
   "metadata": {},
   "outputs": [],
   "source": [
    "# run train\n",
    "import cProfile\n",
    "\n",
    "for idx, (train_ds, val_ds, test_ds) in enumerate(dataset_gen):\n",
    "    print(f\"\\nstart cross validation : {idx} / {n_folds}\\n\")\n",
    "    # Training\n",
    "    cross_val_output_dir = output_dir / f\"{idx:02d}\"\n",
    "    train_itr = chainer.iterators.MultiprocessIterator(train_ds, batch_size, repeat=True)\n",
    "    val_itr = chainer.iterators.MultiprocessIterator(val_ds, batch_size, repeat=False)\n",
    "    test_itr = chainer.iterators.MultiprocessIterator(test_ds, batch_size, repeat=False)\n",
    "    \n",
    "    updater = chainer.training.StandardUpdater(\n",
    "        train_itr, optimizer, converter=convert.concat_examples, loss_func=loss_func, device=device\n",
    "    )\n",
    "    evaluator = chainer.training.extensions.Evaluator(\n",
    "        val_itr, model, device=device, eval_func=loss_func\n",
    "    )\n",
    "    trainer = melanoma.trainer.TrainerBuilder(updater, epoch ,evaluator, cross_val_output_dir).build()\n",
    "\n",
    "    profiler = cProfile.Profile()\n",
    "    profiler.runcall(trainer.run)\n",
    "    \n",
    "    profiler.dump_stats(cross_val_output_dir / \"profile.stat\".format(idx))\n",
    "    \n",
    "    # Evaluation\n",
    "    chainer.serializers.load_npz(cross_val_output_dir / \"snapshot_model_{}.npz\".format(epoch), model)\n",
    "    if device >= 0:\n",
    "        model.to_gpu()\n",
    "        predictor.to_gpu()\n",
    "    test_itr.reset()\n",
    "    melanoma.evaluate.evaluate(predictor, \n",
    "                               test_itr,\n",
    "                               [l.name for l in melanoma.constants.Labels],\n",
    "                               cross_val_output_dir / f\"{title}_eval\",\n",
    "                               device=device,\n",
    "                              )    "
   ]
  },
  {
   "cell_type": "code",
   "execution_count": null,
   "metadata": {},
   "outputs": [],
   "source": [
    "# submission\n",
    "npz_footer = \"accuracy\"\n",
    "files = output_dir.glob(\"*/snapshot_model_{}.npz\".format(npz_footer))\n",
    "\n",
    "ds = melanoma.dataset.SubmissionDataset(melanoma.dataset.DATASET_ROOT / \"test.csv\")\n",
    "itr = chainer.iterators.MultiprocessIterator(ds, batch_size, repeat=False)\n",
    "itr.reset()\n",
    "melanoma.utility.start_pdb(\n",
    "# lambda: melanoma.evaluate.evaluate_submission(predictor, \n",
    "#                                               itr,\n",
    "#                                               output_dir / f\"{title}_submission_{npz_footer}\",\n",
    "#                                               device=device,\n",
    "#                                               filenames=files,\n",
    "#                                              )\n",
    "    lambda: melanoma.evaluate._sum_predict(output_dir.glob(f\"{title}_submission_{npz_footer}*.csv\"), output_dir / f\"{title}_submission_{npz_footer}\")\n",
    ")\n"
   ]
  }
 ],
 "metadata": {
  "language_info": {
   "name": "python",
   "pygments_lexer": "ipython3"
  }
 },
 "nbformat": 4,
 "nbformat_minor": 4
}
