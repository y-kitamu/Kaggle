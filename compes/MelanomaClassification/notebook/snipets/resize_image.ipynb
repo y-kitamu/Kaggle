{
 "cells": [
  {
   "cell_type": "code",
   "execution_count": null,
   "metadata": {},
   "outputs": [],
   "source": [
    "from pathlib import Path\n",
    "import cv2\n",
    "import matplotlib.pyplot as plt\n",
    "import multiprocessing as mp\n",
    "import tqdm\n",
    "\n",
    "import melanoma"
   ]
  },
  {
   "cell_type": "code",
   "execution_count": null,
   "metadata": {},
   "outputs": [],
   "source": [
    "def resize_image_crop(path, output_path, size=(224, 336)):\n",
    "    \"\"\"Original画像のサイズを正規化, 縦横比を維持したままscaling、はみ出し部分をcrop\n",
    "    Args:\n",
    "        path (pathlib.Path) : image file path\n",
    "        size (tuple)        : (height, width)\n",
    "    \"\"\"\n",
    "    img = cv2.imread(str(path))\n",
    "    h_scale = size[0] / img.shape[0]\n",
    "    w_scale = size[1] / img.shape[1]\n",
    "    if h_scale > w_scale:\n",
    "        scale = h_scale\n",
    "        height, width = size[0], int(img.shape[1] * h_scale)\n",
    "    else:\n",
    "        scale = w_scale\n",
    "        height, width = int(img.shape[0] * w_scale), size[1]\n",
    "    resized = cv2.resize(img, (width, height))\n",
    "\n",
    "    if resized.shape[0] > size[0]:\n",
    "        top = (resized.shape[0] - size[0]) // 2\n",
    "        resized = resized[top:top + size[0]]\n",
    "    if resized.shape[1] > size[1]:\n",
    "        left = (resized.shape[1] - size[1]) // 2\n",
    "        resized = resized[:, left:left + size[1]]\n",
    "    cv2.imwrite(str(output_path), resized)\n",
    "    return resized"
   ]
  },
  {
   "cell_type": "code",
   "execution_count": null,
   "metadata": {},
   "outputs": [],
   "source": [
    "def resize_image(path, output_path, size=(224, 224)):\n",
    "    img = cv2.imread(str(path))\n",
    "    resized = cv2.resize(img, size)\n",
    "    cv2.imwrite(str(output_path), resized)\n",
    "    return resized"
   ]
  },
  {
   "cell_type": "code",
   "execution_count": null,
   "metadata": {},
   "outputs": [],
   "source": [
    "pool = mp.Pool(processes=7)\n",
    "res = []\n",
    "for path in (melanoma.constants.DATASET_ROOT / \"Melanoma\").glob(\"*/Original/*.jpg\"):\n",
    "    output_path = Path(str(path).replace(\"Original\", \"Resized\").replace(\"jpg\", \"png\"))\n",
    "    res.append(pool.apply_async(resize_image, (path, output_path)))\n",
    "for r in tqdm.tqdm(res):\n",
    "    r.get()\n",
    "pool.close()"
   ]
  },
  {
   "cell_type": "code",
   "execution_count": null,
   "metadata": {},
   "outputs": [],
   "source": [
    "file_path = melanoma.constants.DATASET_ROOT /  \"Melanoma/train/Original/ISIC_0151200.jpg\"\n",
    "img = cv2.imread(str(file_path))"
   ]
  },
  {
   "cell_type": "code",
   "execution_count": null,
   "metadata": {},
   "outputs": [],
   "source": [
    "img.shape"
   ]
  }
 ],
 "metadata": {
  "language_info": {
   "name": "python",
   "pygments_lexer": "ipython3"
  }
 },
 "nbformat": 4,
 "nbformat_minor": 4
}
