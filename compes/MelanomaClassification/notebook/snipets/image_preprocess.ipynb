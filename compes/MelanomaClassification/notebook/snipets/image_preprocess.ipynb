{
 "cells": [
  {
   "cell_type": "code",
   "execution_count": null,
   "metadata": {},
   "outputs": [],
   "source": [
    "from pathlib import Path\n",
    "\n",
    "import numpy as np\n",
    "import pandas as pd\n",
    "import PIL\n",
    "from PIL import Image\n",
    "from tqdm import tqdm"
   ]
  },
  {
   "cell_type": "code",
   "execution_count": null,
   "metadata": {},
   "outputs": [],
   "source": [
    "train_df = pd.read_csv(Path.home() / \"dataset/Melanoma/train.csv\")"
   ]
  },
  {
   "cell_type": "code",
   "execution_count": null,
   "metadata": {},
   "outputs": [],
   "source": [
    "def preprocess_image(image_path, image_size=224):\n",
    "    im = Image.open(image_path)\n",
    "    im = im.resize((image_size, ) * 2, resample=Image.LANCZOS)\n",
    "    return im"
   ]
  },
  {
   "cell_type": "code",
   "execution_count": null,
   "metadata": {},
   "outputs": [],
   "source": [
    "image_size = 224\n",
    "N = train_df.shape[0]\n",
    "x_train = np.empty((N, image_size, image_size, 3), dtype=np.uint8)\n",
    "\n",
    "for i, image_id in enumerate(tqdm(train_df[\"image_name\"])):\n",
    "    x_train[i, :, :, :] = preprocess_image(\n",
    "        f\"/home/kitamura/dataset/Melanoma/train/Original/{image_id}.jpg\"\n",
    "    )"
   ]
  },
  {
   "cell_type": "code",
   "execution_count": null,
   "metadata": {},
   "outputs": [],
   "source": [
    "np.save(\"x_train_224.npy\", x_train)"
   ]
  },
  {
   "cell_type": "code",
   "execution_count": null,
   "metadata": {},
   "outputs": [],
   "source": [
    "test_df = pd.read_csv(Path.home() / \"dataset/Melanoma/test.csv\")\n",
    "N = test_df.shape[0]\n",
    "x_test = np.empty((N, image_size, image_size, 3), dtype=np.uint8)\n",
    "for i, image_id in enumerate(tqdm(test_df[\"image_name\"])):\n",
    "    x_test[i, :, :, :] = preprocess_image(\n",
    "        f\"/home/kitamura/dataset/Melanoma/test/Original/{image_id}.jpg\"\n",
    "    )\n",
    "\n",
    "np.save(\"x_test_224.npy\", x_test)"
   ]
  }
 ],
 "metadata": {
  "language_info": {
   "name": "python",
   "pygments_lexer": "ipython3"
  }
 },
 "nbformat": 4,
 "nbformat_minor": 4
}
