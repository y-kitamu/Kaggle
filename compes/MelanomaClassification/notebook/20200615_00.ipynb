{
 "cells": [
  {
   "cell_type": "markdown",
   "metadata": {},
   "source": [
    "\n",
    "## 20200615_00\n",
    "とりあえずEfficient net にそのまま突っ込んで実験  \n",
    "-> データ数の偏りから、全部 bining に分類"
   ]
  },
  {
   "cell_type": "code",
   "execution_count": null,
   "metadata": {},
   "outputs": [],
   "source": [
    "import chainer\n",
    "from chainer.dataset import convert\n",
    "\n",
    "import melanoma\n",
    "\n",
    "title = \"20200615_00\"\n",
    "\n",
    "device = 0\n",
    "batch_size = 32\n",
    "width = 224\n",
    "height = 224\n",
    "epoch = 10\n",
    "n_classes = 2\n",
    "output_dir = melanoma.constants.RESULT_DIR / \"20200615_00\"\n",
    "transfered_weights = None\n",
    "\n",
    "model = melanoma.models.EfficientNet()\n",
    "loss_func = model.loss_func\n",
    "optimizer = chainer.optimizers.Adam()\n",
    "predictor = melanoma.predictor.Predictor(model, (width, height))\n",
    "\n",
    "if device >= 0:\n",
    "    model.to_gpu(device)\n",
    "    predictor.to_gpu(device)\n",
    "\n",
    "optimizer.setup(model)\n",
    "\n",
    "train_ds, val_ds, test_ds = melanoma.dataset.DatasetBuilder(img_size=(width, height), n_classes=n_classes).build()\n",
    "\n",
    "train_itr = chainer.iterators.MultiprocessIterator(train_ds, batch_size, repeat=True)\n",
    "val_itr = chainer.iterators.MultiprocessIterator(val_ds, batch_size, repeat=False)\n",
    "test_itr = chainer.iterators.MultiprocessIterator(test_ds, batch_size, repeat=False)\n",
    "\n",
    "updater = chainer.training.StandardUpdater(\n",
    "    train_itr, optimizer, converter=convert.concat_examples, loss_func=loss_func, device=device\n",
    ")\n",
    "evaluator = chainer.training.extensions.Evaluator(\n",
    "    val_itr, model, device=device, eval_func=loss_func\n",
    ")\n",
    "trainer = melanoma.trainer.TrainerBuilder(updater, epoch ,evaluator, output_dir).build()\n"
   ]
  },
  {
   "cell_type": "code",
   "execution_count": null,
   "metadata": {},
   "outputs": [],
   "source": [
    "# run train\n",
    "trainer.run()\n"
   ]
  },
  {
   "cell_type": "code",
   "execution_count": null,
   "metadata": {},
   "outputs": [],
   "source": [
    "# evaluation\n",
    "chainer.serializers.load_npz(melanoma.constants.RESULT_DIR / title / \"snapshot_main_model_{}.npz\".format(epoch), model)\n",
    "melanoma.utility.start_pdb(\n",
    "    lambda : melanoma.evaluate.evaluate(predictor, \n",
    "                           test_itr,\n",
    "                           [l.name for l in melanoma.constants.Labels],\n",
    "                           output_dir / f\"{title}_eval\",\n",
    "                           device=device,\n",
    "                          )\n",
    ")"
   ]
  }
 ],
 "metadata": {
  "language_info": {
   "name": "python",
   "pygments_lexer": "ipython3"
  }
 },
 "nbformat": 4,
 "nbformat_minor": 4
}
