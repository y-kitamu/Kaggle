{
 "cells": [
  {
   "cell_type": "code",
   "execution_count": null,
   "id": "41485907-27b8-40b3-b200-d1dba56221d2",
   "metadata": {},
   "outputs": [],
   "source": [
    "from pathlib import Path\n",
    "\n",
    "import happy_wheel\n",
    "from happy_wheel import DATA_ROOT\n",
    "from happy_wheel.config import TrainConfig, ModelConfig, LossConfig, OptimizerConfig, DatasetConfig, Config\n",
    "import ykaggle_core as ycore\n",
    "\n",
    "ycore.set_gpu(0)"
   ]
  },
  {
   "cell_type": "code",
   "execution_count": null,
   "id": "290a2652-5c55-4e8c-ad14-db412bffc120",
   "metadata": {},
   "outputs": [],
   "source": []
  }
 ],
 "metadata": {
  "language_info": {
   "name": "python",
   "pygments_lexer": "ipython3"
  }
 },
 "nbformat": 4,
 "nbformat_minor": 5
}
