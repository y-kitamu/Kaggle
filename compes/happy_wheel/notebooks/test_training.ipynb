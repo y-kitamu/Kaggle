{
 "cells": [
  {
   "cell_type": "code",
   "execution_count": null,
   "id": "41485907-27b8-40b3-b200-d1dba56221d2",
   "metadata": {},
   "outputs": [],
   "source": [
    "from pathlib import Path\n",
    "\n",
    "import happy_wheel\n",
    "from happy_wheel import DATA_ROOT\n",
    "from happy_wheel.config import TrainConfig, ModelConfig, LossConfig, OptimizerConfig, DatasetConfig, Config\n",
    "import ykaggle_core as ycore\n",
    "\n",
    "ycore.set_gpu(0)"
   ]
  },
  {
   "cell_type": "code",
   "execution_count": null,
   "id": "290a2652-5c55-4e8c-ad14-db412bffc120",
   "metadata": {},
   "outputs": [],
   "source": [
    "train_config = TrainConfig(epochs=30)\n",
    "model_config = ModelConfig(\n",
    "    name=\"efficientnet-b0\",\n",
    "    kwargs=dict(\n",
    "        include_top=False,\n",
    "        input_shape=(image_height, image_width, 3),\n",
    "    ),\n",
    ")\n",
    "\n",
    "train_dataset_config = DatasetConfig(\n",
    "    input_dir=DATA_ROOT / \"preprocessed\" / \"train_images\",\n",
    "    batch_size=32,\n",
    "    width=image_width,\n",
    "    height=image_height,\n",
    "    shuffle=True,\n",
    "    label_csv_path=DATA_ROOT / \"preprocessed\" / f\"train_cv{fold}.csv\",\n",
    ")\n",
    "val_dataset_config = DatasetConfig(\n",
    "    input_dir=DATA_ROOT / \"preprocessed\" / \"train_images\",\n",
    "    batch_size=64,\n",
    "    width=image_width,\n",
    "    height=image_height,\n",
    "    shuffle=False,\n",
    "    label_csv_path=DATA_ROOT / \"preprocessed\" / f\"valid_cv{fold}.csv\",\n",
    ")\n",
    "config = Config(\n",
    "    exp_name=f\"{base_exp_name}/cv{fold}\",\n",
    "    train=train_config,\n",
    "    model=model_config,\n",
    "    loss=LossConfig(name=\"categorical_crossentropy\"),\n",
    "    optimizer=OptimizerConfig(name=\"adam\"),\n",
    "    train_dataset=train_dataset_config,\n",
    "    validation_dataset=val_dataset_config,\n",
    "    test_dataset=val_dataset_config,\n",
    ")"
   ]
  }
 ],
 "metadata": {
  "language_info": {
   "name": "python",
   "pygments_lexer": "ipython3"
  }
 },
 "nbformat": 4,
 "nbformat_minor": 5
}
