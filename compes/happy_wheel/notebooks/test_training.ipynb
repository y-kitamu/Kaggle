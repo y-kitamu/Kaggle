{
 "cells": [
  {
   "cell_type": "code",
   "execution_count": null,
   "id": "41485907-27b8-40b3-b200-d1dba56221d2",
   "metadata": {},
   "outputs": [],
   "source": [
    "from pathlib import Path\n",
    "\n",
    "import happy_wheel\n",
    "from happy_wheel import DATA_ROOT, NUM_INDIVIDUALS, SPECIES\n",
    "from happy_wheel.config import TrainConfig, ModelConfig, LossConfig, OptimizerConfig, DatasetConfig, Config\n",
    "import ykaggle_core as ycore\n",
    "\n",
    "ycore.set_gpu(0)"
   ]
  },
  {
   "cell_type": "markdown",
   "id": "82eab82f-0572-4516-b090-ec7171a2c68f",
   "metadata": {},
   "source": [
    "### 学習率scheduler"
   ]
  },
  {
   "cell_type": "code",
   "execution_count": null,
   "id": "cb922ace-da3d-43b3-9ebd-97653d4bf391",
   "metadata": {},
   "outputs": [],
   "source": [
    "import math\n",
    "\n",
    "import plotly.express as px\n",
    "import plotly.io as pio\n",
    "pio.renderers.default = \"iframe\"\n",
    "\n",
    "scheduler = happy_wheel.lr_schedulers.WarmUpCosineAnnealing()\n",
    "lr = [math.log(scheduler(i, 1e-4)) for i in range(200)]\n",
    "\n",
    "px.line(lr)"
   ]
  },
  {
   "cell_type": "markdown",
   "id": "0f5cd64e-933f-4087-a9a8-6745670bcfd5",
   "metadata": {},
   "source": [
    "### Config設定"
   ]
  },
  {
   "cell_type": "code",
   "execution_count": null,
   "id": "290a2652-5c55-4e8c-ad14-db412bffc120",
   "metadata": {},
   "outputs": [],
   "source": [
    "image_height = 256\n",
    "image_width = 384\n",
    "fold = 0\n",
    "base_exp_name = \"test\"\n",
    "\n",
    "train_config = TrainConfig(epochs=30)\n",
    "model_config = ModelConfig(\n",
    "    name=\"efficientnet-b0\",\n",
    "    kwargs=dict(\n",
    "        include_top=False,\n",
    "        input_shape=(image_height, image_width, 3),\n",
    "    ),\n",
    "    num_output_class=len(SPECIES),\n",
    "    num_identity=NUM_INDIVIDUALS\n",
    ")\n",
    "\n",
    "train_dataset_config = DatasetConfig(\n",
    "    input_dir=DATA_ROOT / \"preprocessed\" / \"train_images\",\n",
    "    batch_size=32,\n",
    "    width=image_width,\n",
    "    height=image_height,\n",
    "    shuffle=True,\n",
    "    label_csv_path=DATA_ROOT / \"preprocessed\" / f\"train_cv{fold}.csv\",\n",
    ")\n",
    "val_dataset_config = DatasetConfig(\n",
    "    input_dir=DATA_ROOT / \"preprocessed\" / \"train_images\",\n",
    "    batch_size=64,\n",
    "    width=image_width,\n",
    "    height=image_height,\n",
    "    shuffle=False,\n",
    "    label_csv_path=DATA_ROOT / \"preprocessed\" / f\"valid_cv{fold}.csv\",\n",
    ")\n",
    "config = Config(\n",
    "    exp_name=f\"{base_exp_name}/cv{fold}\",\n",
    "    train=train_config,\n",
    "    model=model_config,\n",
    "    loss=LossConfig(name=\"categorical_crossentropy\"),\n",
    "    optimizer=OptimizerConfig(name=\"adam\"),\n",
    "    train_dataset=train_dataset_config,\n",
    "    validation_dataset=val_dataset_config,\n",
    "    test_dataset=val_dataset_config,\n",
    ")"
   ]
  },
  {
   "cell_type": "markdown",
   "id": "5263c5a3-3d48-43e9-a9bd-d5a1002df1df",
   "metadata": {},
   "source": [
    "### build model"
   ]
  },
  {
   "cell_type": "code",
   "execution_count": null,
   "id": "10a87742-f952-47ae-9ef6-7c422e873e87",
   "metadata": {},
   "outputs": [],
   "source": [
    "model = happy_wheel.train.create_model(config)"
   ]
  },
  {
   "cell_type": "code",
   "execution_count": null,
   "id": "d6c2615e-1b34-420f-9023-3a8fe162b0f9",
   "metadata": {},
   "outputs": [],
   "source": [
    "model.summary()"
   ]
  },
  {
   "cell_type": "code",
   "execution_count": null,
   "id": "06e51479-ebab-4edb-848c-538f592bdcab",
   "metadata": {},
   "outputs": [],
   "source": []
  },
  {
   "cell_type": "markdown",
   "id": "b980f214-2313-4d5a-9c0c-b73e3b096c87",
   "metadata": {},
   "source": [
    "### Data loader"
   ]
  },
  {
   "cell_type": "code",
   "execution_count": null,
   "id": "e313e488-a82f-4dde-b086-9d0f75dca32e",
   "metadata": {},
   "outputs": [],
   "source": [
    "train_ds, _ = happy_wheel.dataset.build_train_dataloader(config.train_dataset)"
   ]
  },
  {
   "cell_type": "code",
   "execution_count": null,
   "id": "b40d7c89-373b-4283-bade-1784ceddb520",
   "metadata": {},
   "outputs": [],
   "source": [
    "for batch in train_ds:\n",
    "    break"
   ]
  },
  {
   "cell_type": "code",
   "execution_count": null,
   "id": "4c29c7a6-453f-4d67-87f9-527d9633569a",
   "metadata": {},
   "outputs": [],
   "source": [
    "model.train_on_batch(*batch)"
   ]
  },
  {
   "cell_type": "code",
   "execution_count": null,
   "id": "53cb2532-7434-490a-8457-43151375f0d3",
   "metadata": {},
   "outputs": [],
   "source": []
  }
 ],
 "metadata": {
  "language_info": {
   "name": "python",
   "pygments_lexer": "ipython3"
  }
 },
 "nbformat": 4,
 "nbformat_minor": 5
}
