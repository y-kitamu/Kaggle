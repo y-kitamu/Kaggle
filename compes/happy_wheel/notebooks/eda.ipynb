{
 "cells": [
  {
   "cell_type": "markdown",
   "id": "a135c3a3-0e3f-4496-b205-bc249b0f6fbb",
   "metadata": {},
   "source": [
    "# EDA for Happy Wheel dataset"
   ]
  },
  {
   "cell_type": "code",
   "execution_count": null,
   "id": "9fcca906-a691-4f47-bf8c-4022632ba15c",
   "metadata": {},
   "outputs": [],
   "source": [
    "from pathlib import Path\n",
    "from concurrent.futures import ThreadPoolExecutor\n",
    "\n",
    "from tqdm import tqdm\n",
    "import plotly.graph_objects as go\n",
    "import cv2\n",
    "import albumentations as A\n",
    "import numpy as np\n",
    "import pandas as pd\n",
    "import plotly.io as pio\n",
    "pio.renderers.default='iframe'"
   ]
  },
  {
   "cell_type": "code",
   "execution_count": null,
   "id": "c15738e8-1dce-4e63-b445-373bf089c908",
   "metadata": {},
   "outputs": [],
   "source": [
    "csv_path = Path(\"/home/kitamura/dataset/HappyWheel/train.csv\")\n",
    "df = pd.read_csv(csv_path)"
   ]
  },
  {
   "cell_type": "code",
   "execution_count": null,
   "id": "cca270f4-5b3f-47dd-b54e-a0eb7fae6930",
   "metadata": {},
   "outputs": [],
   "source": [
    "input_dir = Path(\"/home/kitamura/dataset/HappyWheel/train_images\")\n",
    "images = [f.name for f in input_dir.glob(\"**/*.jpg\")]"
   ]
  },
  {
   "cell_type": "code",
   "execution_count": null,
   "id": "8bc8966b-3416-4b4c-b4d4-512b5cf663ae",
   "metadata": {},
   "outputs": [],
   "source": [
    "species = df.species.unique()\n",
    "species.sort()\n",
    "species"
   ]
  },
  {
   "cell_type": "markdown",
   "id": "72b5e810-c3c2-4366-8543-7f1d65379b0e",
   "metadata": {},
   "source": [
    "## Check image size and aspect ratio\n",
    "\n",
    "I found that the image size is different for each images in the dataset.  \n",
    "Also, aspect ratio (width / height) varies drastically from 1.0 to 15.0.  \n",
    "This observation suggest that when resizeing image, changing aspect ratio is bad idea.  \n",
    "So, instead of changing aspect ratio, padding should be used.  \n",
    "Image resizing vs Padding is also discussed in [stackoverflow](https://stackoverflow.com/a/61930818/14199112).\n",
    "\n",
    "### Hypothesis\n",
    "\n",
    "- Mean aspect ratio may be different between each species (classes).\n",
    "  => By visualizing mean aspect ratio of each species, this hypothesis is rejected. No obvious trend is found."
   ]
  },
  {
   "cell_type": "code",
   "execution_count": null,
   "id": "62da0f9b-b8ec-4b11-bd89-aa5b25409e8b",
   "metadata": {},
   "outputs": [],
   "source": [
    "aspect_ratios = []\n",
    "\n",
    "def get_aspect_ratio(path):\n",
    "    img = cv2.imread(str(input_dir / path))\n",
    "    h, w, c = img.shape\n",
    "    aspect = float(w) / h\n",
    "    return (aspect, w, h)\n",
    "\n",
    "\n",
    "with ThreadPoolExecutor(16) as executor:\n",
    "    futures = executor.map(get_aspect_ratio, images)\n",
    "    res = [f for f in futures]"
   ]
  },
  {
   "cell_type": "code",
   "execution_count": null,
   "id": "5e47c6ac-0c9a-4d53-8c00-108874d0f4d4",
   "metadata": {},
   "outputs": [],
   "source": [
    "widths = [r[1] for r in res]\n",
    "heights = [r[2] for r in res]\n",
    "aspects = [r[0] for r in res]\n",
    "\n",
    "df[\"width\"] = widths\n",
    "df[\"height\"] = heights\n",
    "df[\"aspect\"] = aspects"
   ]
  },
  {
   "cell_type": "code",
   "execution_count": null,
   "id": "d314c986-10d8-4af1-ab44-8cdce16f4bb1",
   "metadata": {},
   "outputs": [],
   "source": [
    "import plotly.express as px\n",
    "\n",
    "fig = px.box(df, x=\"species\", y=\"aspect\")\n",
    "fig.show()"
   ]
  },
  {
   "cell_type": "code",
   "execution_count": null,
   "id": "58045bf7-6f82-4bec-840c-866790f2981f",
   "metadata": {},
   "outputs": [],
   "source": []
  },
  {
   "cell_type": "code",
   "execution_count": null,
   "id": "24bd3f6f-0eb5-4873-beb1-d64cdd87ac9d",
   "metadata": {},
   "outputs": [],
   "source": [
    "import plotly.express as px\n",
    "\n",
    "for spec in species:\n",
    "    fig = px.scatter(df[df.species == spec], x=\"width\", y=\"height\", color=\"species\")\n",
    "    fig.update_xaxes(range=[0, 4000])\n",
    "    fig.update_yaxes(range=[0, 4000])\n",
    "    fig.show()"
   ]
  },
  {
   "cell_type": "code",
   "execution_count": null,
   "id": "6ee465cb-58b3-4caa-af04-b806871d900c",
   "metadata": {},
   "outputs": [],
   "source": []
  }
 ],
 "metadata": {
  "language_info": {
   "name": "python",
   "pygments_lexer": "ipython3"
  }
 },
 "nbformat": 4,
 "nbformat_minor": 5
}
