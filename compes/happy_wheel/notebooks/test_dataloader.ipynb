{
 "cells": [
  {
   "cell_type": "code",
   "execution_count": null,
   "id": "dcdb705d-ce38-4437-9972-25495078fbb2",
   "metadata": {},
   "outputs": [],
   "source": [
    "from pathlib import Path\n",
    "\n",
    "import happy_wheel"
   ]
  },
  {
   "cell_type": "code",
   "execution_count": null,
   "id": "bc5c6eef-785d-4b4b-937a-7c5c5eef277e",
   "metadata": {},
   "outputs": [],
   "source": [
    "data_root = Path.home() / \"dataset\" / \"HappyWheel\"\n",
    "input_dir = data_root / \"train_images\"\n",
    "csv_path = data_root / \"train.csv\"\n",
    "\n",
    "config = happy_wheel.config.DatasetConfig(\n",
    "    input_dir=input_dir,\n",
    "    batch_size=32,\n",
    "    width=512,\n",
    "    height=512,\n",
    "    shuffle=True,\n",
    "    label_csv_path=csv_path\n",
    ")"
   ]
  },
  {
   "cell_type": "code",
   "execution_count": null,
   "id": "55e5b6e5-46bd-4650-ab80-a3d16f42f927",
   "metadata": {},
   "outputs": [],
   "source": [
    "train_ds = happy_wheel.dataset.build_train_dataloader(config)"
   ]
  },
  {
   "cell_type": "code",
   "execution_count": null,
   "id": "bb7b3f1f-fd87-47a1-8926-65a7501d3ccf",
   "metadata": {},
   "outputs": [],
   "source": [
    "train_ds.__dict__"
   ]
  },
  {
   "cell_type": "code",
   "execution_count": null,
   "id": "63b3e535-c99d-4ad1-ba5f-aa71f5956f4f",
   "metadata": {},
   "outputs": [],
   "source": [
    "%%time\n",
    "\n",
    "def run():\n",
    "    for d in train_ds.take(10):\n",
    "        pass"
   ]
  },
  {
   "cell_type": "code",
   "execution_count": null,
   "id": "363d8458-9c80-48be-abd9-85d36cdbb299",
   "metadata": {},
   "outputs": [],
   "source": [
    "import cProfile\n",
    "\n",
    "cProfile.run(\"run()\", \"restats\")"
   ]
  },
  {
   "cell_type": "code",
   "execution_count": null,
   "id": "28e65e92-a015-4126-b5a8-c801c10a6f0f",
   "metadata": {},
   "outputs": [],
   "source": [
    "import pstats\n",
    "from pstats import SortKey\n",
    "\n",
    "p = pstats.Stats('restats')\n",
    "p.sort_stats(SortKey.CUMULATIVE).print_stats()"
   ]
  },
  {
   "cell_type": "code",
   "execution_count": null,
   "id": "8a913ed1-891b-4eb1-8e60-518eb8c804a3",
   "metadata": {},
   "outputs": [],
   "source": []
  }
 ],
 "metadata": {
  "language_info": {
   "name": "python",
   "pygments_lexer": "ipython3"
  }
 },
 "nbformat": 4,
 "nbformat_minor": 5
}
