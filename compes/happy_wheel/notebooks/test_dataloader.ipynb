{
 "cells": [
  {
   "cell_type": "code",
   "execution_count": null,
   "id": "32f29355-ffa7-4606-898c-8a9896b4856f",
   "metadata": {},
   "outputs": [],
   "source": [
    "from pathlib import Path\n",
    "\n",
    "import plotly.express as px\n",
    "import plotly.io as pio\n",
    "pio.renderers.default = \"iframe\"\n",
    "\n",
    "import happy_wheel"
   ]
  },
  {
   "cell_type": "code",
   "execution_count": null,
   "id": "bc5c6eef-785d-4b4b-937a-7c5c5eef277e",
   "metadata": {},
   "outputs": [],
   "source": [
    "data_root = Path.home() / \"dataset\" / \"HappyWheel\"\n",
    "input_dir = data_root / \"train_images\"\n",
    "csv_path = data_root / \"train.csv\"\n",
    "\n",
    "config = happy_wheel.config.DatasetConfig(\n",
    "    input_dir=input_dir,\n",
    "    batch_size=32,\n",
    "    width=384,\n",
    "    height=256,\n",
    "    shuffle=True,\n",
    "    label_csv_path=csv_path\n",
    ")"
   ]
  },
  {
   "cell_type": "code",
   "execution_count": null,
   "id": "55e5b6e5-46bd-4650-ab80-a3d16f42f927",
   "metadata": {},
   "outputs": [],
   "source": [
    "train_ds, _ = happy_wheel.dataset.build_train_dataloader(config)"
   ]
  },
  {
   "cell_type": "code",
   "execution_count": null,
   "id": "f0f56c44-a464-4c31-912c-2f2d96508df3",
   "metadata": {},
   "outputs": [],
   "source": [
    "for data in train_ds.take(10):\n",
    "    break"
   ]
  },
  {
   "cell_type": "code",
   "execution_count": null,
   "id": "55f4264f-8b45-4d6c-b608-a1a1d29df412",
   "metadata": {},
   "outputs": [],
   "source": [
    "data[0].numpy()[0].min()"
   ]
  },
  {
   "cell_type": "code",
   "execution_count": null,
   "id": "bcf34f0e-28f4-4442-8e8c-7ef1064a7a52",
   "metadata": {},
   "outputs": [],
   "source": [
    "fig = px.imshow(data[0].numpy()[0])\n",
    "fig.show()"
   ]
  },
  {
   "cell_type": "code",
   "execution_count": null,
   "id": "63b3e535-c99d-4ad1-ba5f-aa71f5956f4f",
   "metadata": {},
   "outputs": [],
   "source": [
    "%%time\n",
    "\n",
    "def run():\n",
    "    for d in train_ds.take(10):\n",
    "        pass"
   ]
  },
  {
   "cell_type": "code",
   "execution_count": null,
   "id": "363d8458-9c80-48be-abd9-85d36cdbb299",
   "metadata": {},
   "outputs": [],
   "source": [
    "import cProfile\n",
    "\n",
    "cProfile.run(\"run()\", \"restats\")"
   ]
  },
  {
   "cell_type": "code",
   "execution_count": null,
   "id": "28e65e92-a015-4126-b5a8-c801c10a6f0f",
   "metadata": {},
   "outputs": [],
   "source": [
    "import pstats\n",
    "from pstats import SortKey\n",
    "\n",
    "p = pstats.Stats('restats')\n",
    "p.sort_stats(SortKey.CUMULATIVE).print_stats()"
   ]
  },
  {
   "cell_type": "code",
   "execution_count": null,
   "id": "8a913ed1-891b-4eb1-8e60-518eb8c804a3",
   "metadata": {},
   "outputs": [],
   "source": []
  }
 ],
 "metadata": {
  "language_info": {
   "name": "python",
   "pygments_lexer": "ipython3"
  }
 },
 "nbformat": 4,
 "nbformat_minor": 5
}
