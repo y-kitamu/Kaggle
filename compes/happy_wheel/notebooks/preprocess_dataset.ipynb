{
 "cells": [
  {
   "cell_type": "markdown",
   "id": "3717a8c1-f0fb-4d51-8640-88f0781395a0",
   "metadata": {},
   "source": [
    "# Execute preprocess scripts"
   ]
  },
  {
   "cell_type": "code",
   "execution_count": null,
   "id": "fcfdde7f-dd0e-4164-953a-6c86cd01b962",
   "metadata": {},
   "outputs": [],
   "source": [
    "from pathlib import Path\n",
    "\n",
    "import pandas as pd\n",
    "import cv2\n",
    "import plotly.express as px\n",
    "import plotly.io as pio\n",
    "pio.renderers.default = \"iframe\"\n",
    "\n",
    "import happy_wheel"
   ]
  },
  {
   "cell_type": "markdown",
   "id": "ad8e6166-d4d9-4a14-b2c5-e4c3e2fcd036",
   "metadata": {},
   "source": [
    "## Run preprocessing"
   ]
  },
  {
   "cell_type": "code",
   "execution_count": null,
   "id": "855a07b8-ef01-46d8-9248-f3a51c3dccd0",
   "metadata": {},
   "outputs": [],
   "source": [
    "happy_wheel.preprocess.run()"
   ]
  },
  {
   "cell_type": "markdown",
   "id": "817162a2-19fd-403b-a491-7cf12c0f2cee",
   "metadata": {},
   "source": [
    "## Test preprocessing"
   ]
  },
  {
   "cell_type": "code",
   "execution_count": null,
   "id": "87d5b9b1-5c79-4b70-8f14-e9793446f946",
   "metadata": {},
   "outputs": [],
   "source": [
    "from happy_wheel.preprocess import _resize_and_save\n",
    "\n",
    "images = list(happy_wheel.RAW_TRAIN_DATA_DIR.glob(\"*.jpg\"))\n",
    "_resize_and_save(images[0], happy_wheel.RAW_TRAIN_DATA_DIR, Path(\"./\"))\n",
    "img = cv2.imread(images[0].name)\n",
    "print(f\"img shape (height, width, channel) = {img.shape}\")\n",
    "fig = px.imshow(img)\n",
    "fig.show()"
   ]
  },
  {
   "cell_type": "code",
   "execution_count": null,
   "id": "b19ecbad-d769-4cf8-afb6-8dd2d266355e",
   "metadata": {},
   "outputs": [],
   "source": []
  },
  {
   "cell_type": "markdown",
   "id": "1a70b2da-2ab2-4582-8000-1b4c82873226",
   "metadata": {},
   "source": [
    "## Create CV dataset"
   ]
  },
  {
   "cell_type": "code",
   "execution_count": null,
   "id": "78eac3b4-fef9-4b00-8aac-265a9cee476b",
   "metadata": {},
   "outputs": [],
   "source": [
    "train_csv = happy_wheel.TRAIN_CSV\n",
    "num_fold = 5\n",
    "output_dir = happy_wheel.DATA_ROOT / \"preprocessed\"\n",
    "happy_wheel.dataset.create_cross_validation_dataset(train_csv, num_fold, output_dir)"
   ]
  },
  {
   "cell_type": "code",
   "execution_count": null,
   "id": "7fc96344-12a0-4c3f-bcf5-99f61596550b",
   "metadata": {},
   "outputs": [],
   "source": [
    "train_df = pd.read_csv(output_dir / \"train_cv0.csv\")\n",
    "val_df = pd.read_csv(output_dir / \"valid_cv0.csv\")"
   ]
  },
  {
   "cell_type": "code",
   "execution_count": null,
   "id": "13ec7e81-98cc-43c0-9a21-69c3c703bf33",
   "metadata": {},
   "outputs": [],
   "source": [
    "train_species = train_df.groupby(\"species\").size()\n",
    "val_species = val_df.groupby(\"species\").size()"
   ]
  },
  {
   "cell_type": "code",
   "execution_count": null,
   "id": "5b05a641-823a-465a-a4e4-fb39b9bfcbb5",
   "metadata": {},
   "outputs": [],
   "source": [
    "train_species / val_species"
   ]
  },
  {
   "cell_type": "code",
   "execution_count": null,
   "id": "347dbfda-9099-49a6-a6b6-81cc253a5dde",
   "metadata": {},
   "outputs": [],
   "source": []
  }
 ],
 "metadata": {
  "language_info": {
   "name": "python",
   "pygments_lexer": "ipython3"
  }
 },
 "nbformat": 4,
 "nbformat_minor": 5
}
