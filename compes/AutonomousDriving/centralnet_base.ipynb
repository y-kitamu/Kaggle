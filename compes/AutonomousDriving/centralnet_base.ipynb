{
 "cells": [
  {
   "cell_type": "code",
   "execution_count": null,
   "metadata": {},
   "outputs": [],
   "source": [
    "import os\n",
    "from pathlib import Path\n",
    "from functools import reduce\n",
    "\n",
    "import numpy as np\n",
    "import pandas as pd\n",
    "import cv2\n",
    "import matplotlib.pyplot as plt\n",
    "import seaborn as sns\n",
    "from scipy.optimize import minimize\n",
    "import plotly.express as px\n",
    "\n",
    "from sklearn.model_selection import train_test_split\n",
    "from sklearn.linear_model import LinearRegression\n",
    "from sklearn.metrics import mean_absolute_error, mean_squared_error"
   ]
  },
  {
   "cell_type": "code",
   "execution_count": null,
   "metadata": {},
   "outputs": [],
   "source": [
    "PATH = Path(\"./dataset/\")"
   ]
  },
  {
   "cell_type": "code",
   "execution_count": null,
   "metadata": {},
   "outputs": [],
   "source": [
    "train = pd.read_csv(PATH / \"train.csv\")\n",
    "test = pd.read_csv(PATH / \"sample_submission.csv\")\n",
    "\n",
    "camera_matrix = np.array([[2304.5479, 0, 1686.2379],\n",
    "                          [0, 2305.8758, 1354.9849],\n",
    "                          [0, 0, 1]])\n",
    "camera_matrix_inv = np.linalg.inv(camera_matrix)"
   ]
  },
  {
   "cell_type": "code",
   "execution_count": null,
   "metadata": {},
   "outputs": [],
   "source": [
    "train.head()"
   ]
  },
  {
   "cell_type": "code",
   "execution_count": null,
   "metadata": {},
   "outputs": [],
   "source": [
    "def imread(path, fast_mode=False):\n",
    "    img = cv2.imread(str(path))\n",
    "    if not fast_mode and img is not None and len(img.shape) == 3:\n",
    "        img = np.array(img[:, :, ::-1])\n",
    "    return img"
   ]
  },
  {
   "cell_type": "code",
   "execution_count": null,
   "metadata": {},
   "outputs": [],
   "source": [
    "train.iloc[0][\"ImageId\"]"
   ]
  },
  {
   "cell_type": "code",
   "execution_count": null,
   "metadata": {},
   "outputs": [],
   "source": [
    "img = imread(PATH / 'train_images/{}.jpg'.format(train.iloc[0][\"ImageId\"]))\n",
    "IMG_SHAPE = img.shape\n",
    "plt.figure(figsize=(15, 8))\n",
    "plt.imshow(img)"
   ]
  },
  {
   "cell_type": "code",
   "execution_count": null,
   "metadata": {},
   "outputs": [],
   "source": [
    "def str2coords(s, names=['id', 'yaw', 'pitch', 'roll', 'x', 'y', 'z']):\n",
    "    coords = []\n",
    "    for l in np.array(s.split((\" \"))).astype(np.float).reshape([-1, 7]):\n",
    "        coords.append(dict(zip(names, l)))\n",
    "        if 'id' in coords[-1].keys():\n",
    "            coords[-1]['id'] = int(coords[-1]['id'])\n",
    "    return coords"
   ]
  },
  {
   "cell_type": "code",
   "execution_count": null,
   "metadata": {},
   "outputs": [],
   "source": [
    "str2coords(train.iloc[0][\"PredictionString\"])"
   ]
  },
  {
   "cell_type": "code",
   "execution_count": null,
   "metadata": {},
   "outputs": [],
   "source": [
    "lens = [len(str2coords(s)) for s in train['PredictionString']]\n",
    "plt.figure(figsize=(15, 6))\n",
    "sns.countplot(lens)\n",
    "plt.xlabel(\"Number of cars in image\")"
   ]
  },
  {
   "cell_type": "code",
   "execution_count": null,
   "metadata": {},
   "outputs": [],
   "source": [
    "points_df = pd.DataFrame()\n",
    "for col in ['x', 'y', 'z', 'yaw', 'pitch', 'roll']:\n",
    "    arr = []\n",
    "    for ps in train['PredictionString']:\n",
    "        coords = str2coords(ps)\n",
    "        arr += [c[col] for c in coords]\n",
    "    points_df[col] = arr\n",
    "    \n",
    "print('len(points_df) ', len(points_df))\n",
    "points_df.head()"
   ]
  },
  {
   "cell_type": "code",
   "execution_count": null,
   "metadata": {},
   "outputs": [],
   "source": [
    "plt.figure(figsize=(15, 6))\n",
    "sns.distplot(points_df['x'], bins=500)\n",
    "plt.xlabel('x')\n",
    "plt.show()"
   ]
  },
  {
   "cell_type": "code",
   "execution_count": null,
   "metadata": {},
   "outputs": [],
   "source": [
    "plt.figure(figsize=(15, 6))\n",
    "sns.distplot(points_df['y'], bins=500)\n",
    "plt.xlabel('y')\n",
    "plt.show()"
   ]
  },
  {
   "cell_type": "code",
   "execution_count": null,
   "metadata": {},
   "outputs": [],
   "source": [
    "plt.figure(figsize=(15, 6))\n",
    "sns.distplot(points_df['z'], bins=500)\n",
    "plt.xlabel('z')\n",
    "plt.show()"
   ]
  },
  {
   "cell_type": "code",
   "execution_count": null,
   "metadata": {},
   "outputs": [],
   "source": [
    "plt.figure(figsize=(15, 6))\n",
    "sns.distplot(points_df['yaw'] * 180 / np.pi, bins=500)\n",
    "plt.xlabel('yaw (degree)')\n",
    "plt.show()"
   ]
  },
  {
   "cell_type": "code",
   "execution_count": null,
   "metadata": {},
   "outputs": [],
   "source": [
    "plt.figure(figsize=(15, 6))\n",
    "sns.distplot(points_df['pitch'] * 180 / np.pi, bins=500)\n",
    "plt.xlabel(\"pitch (degree)\")\n",
    "plt.show()"
   ]
  },
  {
   "cell_type": "code",
   "execution_count": null,
   "metadata": {},
   "outputs": [],
   "source": [
    "plt.figure(figsize=(15, 6))\n",
    "sns.distplot(points_df['roll'] * 180 / np.pi, bins=500)\n",
    "plt.xlabel(\"roll (degree)\")\n",
    "plt.show()"
   ]
  },
  {
   "cell_type": "code",
   "execution_count": null,
   "metadata": {},
   "outputs": [],
   "source": [
    "def get_img_coords(s):\n",
    "    coords = str2coords(s)\n",
    "    P = np.array([[c['x'], c['y'], c['z']] for c in coords]).T\n",
    "    img_p = np.dot(camera_matrix, P).T\n",
    "    return img_p[:, 0] / img_p[:, 2], img_p[:, 1] / img_p[:, 2]\n",
    "\n",
    "plt.figure(figsize=(14, 14))\n",
    "plt.imshow(imread(PATH / \"train_images/{}.jpg\".format(train['ImageId'][2217])))\n",
    "plt.scatter(*get_img_coords(train['PredictionString'][2217]), color='red', s=100)"
   ]
  },
  {
   "cell_type": "code",
   "execution_count": null,
   "metadata": {},
   "outputs": [],
   "source": [
    "plt.figure(figsize=(14, 14))\n",
    "\n",
    "plt.imshow(imread(PATH / \"train_images/{}.jpg\".format(train['ImageId'][2217])),\n",
    "           alpha=0.3)\n",
    "\n",
    "xs, ys = [], []\n",
    "for s in train['PredictionString']:\n",
    "    x, y = get_img_coords(s)\n",
    "    xs += list(x)\n",
    "    ys += list(y)\n",
    "    \n",
    "plt.scatter(xs, ys, color='red', s=2)\n",
    "plt.show()"
   ]
  },
  {
   "cell_type": "code",
   "execution_count": null,
   "metadata": {},
   "outputs": [],
   "source": [
    "plt.figure(figsize=(14, 14))\n",
    "\n",
    "plt.scatter(points_df['x'], np.sqrt(points_df['y'] ** 2 + points_df['z'] ** 2), color='red', s=2, alpha=0.2)\n",
    "plt.xlim([-50, 50])\n",
    "plt.ylim([0, 100])\n",
    "plt.show()"
   ]
  },
  {
   "cell_type": "code",
   "execution_count": null,
   "metadata": {},
   "outputs": [],
   "source": [
    "fig = px.scatter_3d(points_df, x='x', y='y', z='z', color='pitch', \n",
    "                    range_x=(-50, 50), range_y=(0, 50), range_z=(0, 250),\n",
    "                    opacity=0.5)\n",
    "fig.show()"
   ]
  },
  {
   "cell_type": "code",
   "execution_count": null,
   "metadata": {},
   "outputs": [],
   "source": [
    "zy_slope = LinearRegression()\n",
    "X = points_df[['z']]\n",
    "y = points_df['y']\n",
    "zy_slope.fit(X, y)\n",
    "\n",
    "print('MAE without x: ', mean_absolute_error(y, zy_slope.predict(X)))\n",
    "\n",
    "xzy_slope = LinearRegression()\n",
    "X = points_df[['x', 'z']]\n",
    "y = points_df['y']\n",
    "xzy_slope.fit(X, y)\n",
    "\n",
    "print('MAE with x: ', mean_absolute_error(y, xzy_slope.predict(X)))\n",
    "\n",
    "print('\\ndy/dx = {:.3f}\\ndy/dx = {:.3f}'.format(*xzy_slope.coef_))"
   ]
  },
  {
   "cell_type": "code",
   "execution_count": null,
   "metadata": {},
   "outputs": [],
   "source": [
    "zy_slope.__dict__"
   ]
  },
  {
   "cell_type": "code",
   "execution_count": null,
   "metadata": {},
   "outputs": [],
   "source": [
    "plt.figure(figsize=(14, 14))\n",
    "z_reg = [z for z in range(0, 500)]\n",
    "y_reg = [zy_slope.intercept_ + zy_slope.coef_[0] * z for z in z_reg]\n",
    "plt.scatter(points_df['z'], points_df['y'], label='Real points')\n",
    "plt.plot(z_reg, y_reg, color='orange', label='Regression')\n",
    "plt.xlim([0, 500])\n",
    "plt.ylim([0, 100])\n",
    "plt.legend()"
   ]
  },
  {
   "cell_type": "code",
   "execution_count": null,
   "metadata": {},
   "outputs": [],
   "source": [
    "from math import sin, cos\n",
    "\n",
    "def eular2rot(yaw, pitch, roll):\n",
    "    y = np.array([[cos(yaw), 0, sin(yaw)],\n",
    "                  [0, 1, 0],\n",
    "                  [-sin(yaw), 0, cos(yaw)]])\n",
    "    p = np.array([[1, 0, 0],\n",
    "                  [0, cos(pitch), -sin(pitch)],\n",
    "                  [0, sin(pitch), cos(pitch)]])\n",
    "    r = np.array([[cos(roll), -sin(roll), 0],\n",
    "                  [sin(roll), cos(roll), 0],\n",
    "                  [0, 0, 1]])\n",
    "    return np.dot(y, np.dot(p, r))"
   ]
  },
  {
   "cell_type": "code",
   "execution_count": null,
   "metadata": {},
   "outputs": [],
   "source": [
    "def draw_line(image, points):\n",
    "    color = (255, 0, 0)\n",
    "    cv2.line(image, tuple(points[0][:2]), tuple(points[3][:2]), color, 16)\n",
    "    cv2.line(image, tuple(points[0][:2]), tuple(points[1][:2]), color, 16)\n",
    "    cv2.line(image, tuple(points[1][:2]), tuple(points[2][:2]), color, 16)\n",
    "    cv2.line(image, tuple(points[2][:2]), tuple(points[3][:2]), color, 16)\n",
    "    return image\n",
    "\n",
    "def draw_points(image, points):\n",
    "    for (p_x, p_y, p_z) in points:\n",
    "        cv2.circle(image, (p_x, p_y), int(1000 / p_z), (0, 255, 0), -1)\n",
    "    return image"
   ]
  },
  {
   "cell_type": "code",
   "execution_count": null,
   "metadata": {},
   "outputs": [],
   "source": [
    "def visualize(img, coords):\n",
    "    x_1 = 1.02\n",
    "    y_1 = 0.80\n",
    "    z_1 = 2.31\n",
    "    \n",
    "    img = img.copy()\n",
    "    for point in coords:\n",
    "        x, y, z = point['x'], point['y'], point['z']\n",
    "        yaw, pitch, roll = -point['pitch'], -point['yaw'], -point['roll']\n",
    "        Rt = np.eye(4)\n",
    "        t = np.array([x, y, z])\n",
    "        Rt[:3, 3] = t\n",
    "        Rt[:3, :3] = eular2rot(yaw, pitch, roll).T\n",
    "        Rt = Rt[:3, :]\n",
    "        P = np.array([[x_1, -y_1, -z_1, 1],\n",
    "                      [x_1, -y_1, z_1, 1],\n",
    "                      [-x_1, -y_1, z_1, 1],\n",
    "                      [-x_1, -y_1, -z_1, 1],\n",
    "                      [0, 0, 0, 1]]).T\n",
    "        img_cor_points = np.dot(camera_matrix, np.dot(Rt, P))\n",
    "        img_cor_points = img_cor_points.T\n",
    "        img_cor_points[:, 0] /= img_cor_points[:, 2]\n",
    "        img_cor_points[:, 1] /= img_cor_points[:, 2]\n",
    "        img_cor_points = img_cor_points.astype(int)\n",
    "        \n",
    "        img = draw_line(img, img_cor_points)\n",
    "        img = draw_points(img, img_cor_points[-1:])\n",
    "        \n",
    "    return img"
   ]
  },
  {
   "cell_type": "code",
   "execution_count": null,
   "metadata": {},
   "outputs": [],
   "source": [
    "n_rows= 6\n",
    "\n",
    "for idx in range(n_rows):\n",
    "    fig, axes = plt.subplots(1, 2, figsize=(20, 20))\n",
    "    img = imread(PATH / \"train_images/{}.jpg\".format(train[\"ImageId\"][idx]))\n",
    "    axes[0].imshow(img)\n",
    "    img_vis = visualize(img, str2coords(train['PredictionString'][idx]))\n",
    "    axes[1].imshow(img_vis)\n",
    "    plt.show()"
   ]
  },
  {
   "cell_type": "code",
   "execution_count": null,
   "metadata": {},
   "outputs": [],
   "source": [
    "IMG_WIDTH = 1024\n",
    "IMG_HEIGHT = IMG_WIDTH // 16 * 5\n",
    "MODEL_SCALE = 8\n",
    "\n",
    "def rotate(x, angle):\n",
    "    x = x + angle\n",
    "    x = x - (x + np.pi) // (2 * np.pi) * 2 * np.pi\n",
    "    return x\n",
    "\n",
    "def _regr_preprocess(regr_dict, flip=False):\n",
    "    if flip:\n",
    "        for k in ['x', 'pitch', 'roll']:\n",
    "            regr_dict[k] = -regr_dict[k]\n",
    "\n",
    "    for name in ['x', 'y', 'z']:\n",
    "        regr_dict[name] = regr_dict[name] / 100\n",
    "        \n",
    "    regr_dict['roll'] = rotate(regr_dict['roll'], np.pi)\n",
    "    regr_dict['pitch_sin'] = sin(regr_dict['pitch'])\n",
    "    regr_dict['pitch_cos'] = cos(regr_dict['pitch'])\n",
    "    regr_dict.pop('pitch')\n",
    "    regr_dict.pop('id')\n",
    "    return regr_dict\n",
    "\n",
    "def _regr_back(regr_dict):\n",
    "    for name in ['x', 'y', 'z']:\n",
    "        regr_dict[name] = regr_dict[name] * 100\n",
    "    regr_dict['roll'] = rotate(regr_dict['roll'], -np.pi)\n",
    "    pitch_sin = regr_dict['pitch_sin'] / np.sqrt(\n",
    "        regr_dict['pitch_sin'] ** 2 + regr_dict['pitch_cos'] ** 2)\n",
    "    pitch_cos = regr_dict['pitch_cos'] / np.sqrt(\n",
    "        regr_dict['pitch_sin'] ** 2 + regr_dict['pitch_cos'] ** 2)\n",
    "    regr_dict['pitch'] = np.arccos(pitch_cos) * np.sign(pitch_sin)\n",
    "    return regr_dict\n",
    "\n",
    "def preprocess_image(img, flip=False):\n",
    "    img = img[img.shape[0] // 2:]\n",
    "    bg = np.ones_like(img) * img.mean(1, keepdims=True).astype(img.dtype)\n",
    "    bg = bg[:, :img.shape[1] // 6]\n",
    "    img = np.concatenate([bg, img, bg], 1)\n",
    "    img = cv2.resize(img, (IMG_WIDTH, IMG_HEIGHT))\n",
    "    if flip:\n",
    "        img = img[:, ::-1]\n",
    "    return (img / 255).astype('float32')\n",
    "\n",
    "def get_mask_and_regr(img, labels, flip=False):\n",
    "    mask = np.zeros([IMG_HEIGHT // MODEL_SCALE, IMG_WIDTH // MODEL_SCALE], dtype='float32')\n",
    "    regr_names = ['x', 'y', 'z', 'yaw', 'pitch', 'roll']\n",
    "    regr = np.zeros([IMG_HEIGHT // MODEL_SCALE, IMG_WIDTH // MODEL_SCALE, 7], dtype='float32')\n",
    "    coords = str2coords(labels)\n",
    "    xs, ys = get_img_coords(labels)\n",
    "    \n",
    "    for x, y, regr_dict in zip(xs, ys, coords):\n",
    "        x, y = y, x\n",
    "        x = (x - img.shape[0] // 2) * IMG_HEIGHT / (img.shape[0] // 2) / MODEL_SCALE\n",
    "        x = np.round(x).astype('int')\n",
    "        y = (y + img.shape[1] // 6) * IMG_WIDTH / (img.shape[1] * 4 / 3) / MODEL_SCALE\n",
    "        y = np.round(y).astype('int')\n",
    "        if x >= 0 and x < IMG_HEIGHT // MODEL_SCALE and y >= 0 and y < IMG_WIDTH // MODEL_SCALE:\n",
    "            mask[x, y] = 1\n",
    "            regr_dict = _regr_preprocess(regr_dict, flip)\n",
    "            regr[x, y] = [regr_dict[n] for n in sorted(regr_dict)]\n",
    "    if flip:\n",
    "        mask = np.array(mask[:, ::-1])\n",
    "        regr = np.array(regr[:, ::-1])\n",
    "    return mask, regr"
   ]
  },
  {
   "cell_type": "code",
   "execution_count": null,
   "metadata": {},
   "outputs": [],
   "source": [
    "img0 = imread(PATH / Path(\"train_images\") / Path(train['ImageId'][0] + '.jpg'))\n",
    "img = preprocess_image(img0)\n",
    "\n",
    "mask, regr = get_mask_and_regr(img0, train['PredictionString'][0])\n",
    "print(\"img.shape\", img.shape, \"std:\", np.std(img))\n",
    "print(\"mask.shape\", mask.shape, \"std:\", np.std(mask))\n",
    "print(\"regr.shape\", regr.shape, \"std:\", np.std(regr))\n",
    "\n",
    "plt.figure(figsize=(16, 16))\n",
    "plt.title(\"processed image\")\n",
    "plt.imshow(img)\n",
    "plt.show()\n",
    "\n",
    "plt.figure(figsize=(16, 16))\n",
    "plt.title(\"Detection Mask\")\n",
    "plt.imshow(mask)\n",
    "plt.show()\n",
    "\n",
    "plt.figure(figsize=(16, 16))\n",
    "plt.title(\"Yaw values\")\n",
    "plt.imshow(regr[:, :, -2])\n",
    "plt.show()"
   ]
  },
  {
   "cell_type": "code",
   "execution_count": null,
   "metadata": {},
   "outputs": [],
   "source": [
    "DISTANCE_THRESH_CLEAR = 2\n",
    "\n",
    "def convert_3d_to_2d(x, y, z, \n",
    "                     fx=2304.5479, fy=2305.8757,\n",
    "                     cx=1686.2379, cy=1354.9849):\n",
    "    return x * fx / z + cx, y * fy / z + cy\n",
    "\n",
    "def optimize_xy(r, c, x0, y0, z0, flipped=False):\n",
    "    def distance_fn(xyz):\n",
    "        x, y, z = xyz\n",
    "        xx = -x if flipped else x\n",
    "        slope_err = (xzy_slope.predict([[xx, z]])[0] - y) ** 2\n",
    "        x, y = convert_3d_to_2d(x, y, z)\n",
    "        y, x = x, y\n",
    "        x = (x - IMG_SHAPE[0] // 2) * IMG_HEIGHT \\\n",
    "            / (IMG_SHAPE[0] // 2) / MODEL_SCALE\n",
    "        y = (y + IMG_SHAPE[1] // 6) * IMG_WIDTH \\\n",
    "            / (IMG_SHAPE[1] * 4 / 3) / MODEL_SCALE\n",
    "        return max(0.2, (x - r) ** 2 + (y - c) ** 2) \\\n",
    "            + max(0.4, slope_err)\n",
    "    \n",
    "    res = minimize(distance_fn, [x0, y0, z0], method='Powell')\n",
    "    x_new, y_new, z_new = res.x\n",
    "    return x_new, y_new, z_new\n",
    "\n",
    "def clear_duplicates(coords):\n",
    "    for c1 in coords:\n",
    "        xyz1 = np.array([c1['x'], c1['y'], c1['z']])\n",
    "        for c2 in coords:\n",
    "            xyz2 = np.array([c2['x'], c2['y'], c2['z']])\n",
    "            distance = np.sqrt(((xyz1 - xyz2) ** 2).sum())\n",
    "            if distance < DISTANCE_THRESH_CLEAR:\n",
    "                if c1['confidence'] < c2['confidence']:\n",
    "                    c1['confidence'] = -1\n",
    "    return [c for c in coords if c['confidence'] > 0]\n",
    "\n",
    "def extract_coords(prediction, flipped=False):\n",
    "    logits = prediction[0]\n",
    "    regr_output = prediction[1:]\n",
    "    points = np.argwhere(logits > 0)\n",
    "    col_names = sorted(['x', 'y', 'z', 'yaw', \n",
    "                        'pitch_sin', 'pitch_cos', 'roll'])\n",
    "    coords = []\n",
    "    for r, c in points:\n",
    "        regr_dict = dict(zip(col_names, regr_output[:, r, c]))\n",
    "        coords.append(_regr_back(regr_dict))\n",
    "        coords[-1]['confidence']  = 1 / (1 + np.exp(-logits[r, c]))\n",
    "        coords[-1]['x'], coords[-1]['y'], coords[-1]['z'] = \\\n",
    "            optimize_xy(r, c, \n",
    "                        coords[-1]['x'],\n",
    "                        coords[-1]['y'],\n",
    "                        coords[-1]['z'], flipped)\n",
    "    coords = clear_duplicates(coords)\n",
    "    return coords\n",
    "\n",
    "def coords2str(coords, names=['yaw', 'pitch', 'roll', 'x', 'y', 'z', 'confidence']):\n",
    "    s = []\n",
    "    for c in coords:\n",
    "        for n in names:\n",
    "            s.append(str(c.get(n, 0)))\n",
    "    return ' '.join(s)"
   ]
  },
  {
   "cell_type": "code",
   "execution_count": null,
   "metadata": {},
   "outputs": [],
   "source": [
    "for idx in range(2):\n",
    "    fig, axes = plt.subplots(1, 2, figsize=(20, 20))\n",
    "    \n",
    "    for ax_i in range(2):\n",
    "        img0 = imread(PATH / Path(\"train_images/{}.jpg\".format(train['ImageId'].iloc[idx])))\n",
    "        if ax_i == 1:\n",
    "            img0 = img0[:, ::-1]\n",
    "        img = preprocess_image(img0, ax_i==1)\n",
    "        mask, regr = get_mask_and_regr(img0, train['PredictionString'][idx], ax_i==1)\n",
    "        regr = np.rollaxis(regr, 2, 0)\n",
    "        coords = extract_coords(np.concatenate([mask[None], regr], 0), ax_i==1)\n",
    "        \n",
    "        axes[ax_i].set_title('Flip = {}'.format(ax_i==1))\n",
    "        axes[ax_i].imshow(visualize(img0, coords))\n",
    "    plt.show()"
   ]
  },
  {
   "cell_type": "code",
   "execution_count": null,
   "metadata": {},
   "outputs": [],
   "source": [
    "import tensorflow as tf\n",
    "\n",
    "df_train, df_dev = train_test_split(train, test_size=0.01, random_state=42)\n",
    "\n",
    "train_dataset = tf.data.Dataset.from_tensor_slices(df_train.values)\n",
    "dev_dataset = tf.data.Dataset.from_tensor_slices(df_dev.values)\n",
    "test_dataset = tf.data.Dataset.from_tensor_slices(test.values)"
   ]
  },
  {
   "cell_type": "code",
   "execution_count": null,
   "metadata": {},
   "outputs": [],
   "source": [
    "for d in train_dataset.take(1):\n",
    "    #print(d[0])\n",
    "    print(d[0].numpy())\n",
    "    print(PATH / \"train_images/{}.jpg\".format(d[0].numpy()))\n",
    "    img0 = imread(PATH / \"train_images/{}.jpg\".format(d[0].numpy().decode()))\n"
   ]
  },
  {
   "cell_type": "code",
   "execution_count": null,
   "metadata": {},
   "outputs": [],
   "source": [
    "#train_id_ds = tf.data.Dataset.from_tensor_slices(df_train[\"ImageId\"].values)\n",
    "train_fnames = \"dataset/train_images/\" + df_train[\"ImageId\"].values + \".jpg\"\n",
    "dev_fnames = \"dataset/train_images/\" + df_dev[\"ImageId\"].values + \".jpg\"\n",
    "test_fnames = \"dataset/train_images/\" + test[\"ImageId\"].values + \".jpg\"\n",
    "\n",
    "train_fnames_ds = tf.data.Dataset.from_tensor_slices(train_fnames)\n",
    "dev_fnames_ds = tf.data.Dataset.from_tensor_slices(dev_fnames)\n",
    "test_fnames_ds = tf.data.Dataset.from_tensor_slices(test_fnames)"
   ]
  },
  {
   "cell_type": "code",
   "execution_count": null,
   "metadata": {},
   "outputs": [],
   "source": [
    "def load_image(fname):\n",
    "    image = tf.image.decode_jpeg(tf.io.read_file(fname))\n",
    "    return image"
   ]
  },
  {
   "cell_type": "code",
   "execution_count": null,
   "metadata": {},
   "outputs": [],
   "source": [
    "train_image_ds = train_fnames_ds.map(load_image)\n",
    "dev_image_ds = dev_fnames_ds.map(load_image)\n",
    "test_image_ds = test_fnames_ds.map(load_image)"
   ]
  },
  {
   "cell_type": "code",
   "execution_count": null,
   "metadata": {},
   "outputs": [],
   "source": [
    "train_labels_ds = tf.data.Dataset.from_tensor_slices(df_train[\"PredictionString\"])\n",
    "dev_labels_ds = tf.data.Dataset.from_tensor_slices(df_dev[\"PredictionString\"])\n",
    "test_labels_ds = tf.data.Dataset.from_tensor_slices(test[\"PredictionString\"])\n",
    "\n",
    "train_ds = tf.data.Dataset.zip((train_image_ds, train_labels_ds))\n",
    "dev_ds = tf.data.Dataset.zip((dev_image_ds, dev_labels_ds))\n",
    "test_ds = tf.data.Dataset.zip((test_image_ds, test_labels_ds))"
   ]
  },
  {
   "cell_type": "code",
   "execution_count": null,
   "metadata": {},
   "outputs": [],
   "source": []
  },
  {
   "cell_type": "code",
   "execution_count": null,
   "metadata": {},
   "outputs": [],
   "source": [
    "def load_and_preprocess(data, training=True):\n",
    "    image_id, labels = data[0].numpy(), data[1].numpy()\n",
    "    flip = False\n",
    "    if training:\n",
    "        flip = np.random.randint(10) == 1\n",
    "\n",
    "    img0 = tf.image.decode_jpeg(\n",
    "        str(PATH / \"train_images/{}.jpg\".format(image_id.decode())), channels=3)\n",
    "    img = preprocess_image(img0, flip=flip)\n",
    "    img = np.rollaxis(img, 2, 0)\n",
    "    \n",
    "    mask, regr = get_mask_and_regr(img0, labels, flip=flip)\n",
    "    regr = np.rollaxis(regr, 2, 0)\n",
    "    return img0 #, mask, regr\n"
   ]
  }
 ],
 "metadata": {
  "language_info": {
   "name": "python",
   "pygments_lexer": "ipython3"
  }
 },
 "nbformat": 4,
 "nbformat_minor": 4
}
