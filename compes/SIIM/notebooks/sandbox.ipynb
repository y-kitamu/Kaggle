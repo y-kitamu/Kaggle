{
 "cells": [
  {
   "cell_type": "code",
   "execution_count": null,
   "id": "b21f14ef-c4bf-4780-a124-f4632d789ac3",
   "metadata": {},
   "outputs": [],
   "source": [
    ":dep pdf = { version = \"0.7.2\" }"
   ]
  },
  {
   "cell_type": "code",
   "execution_count": null,
   "id": "5c94b84d-d958-4d27-b270-cc0aa9095b8c",
   "metadata": {},
   "outputs": [],
   "source": [
    "let url = \"https://stock-and-options-trading-data-provider.p.rapidapi.com/options\";\n",
    "// headers = {\"x-rapidapi-host\": \"stock-and-options-trading-data-provider.p.rapidapi.com\"}"
   ]
  },
  {
   "cell_type": "code",
   "execution_count": null,
   "id": "2200eddd-de9d-45ca-a83e-df4428080db0",
   "metadata": {},
   "outputs": [],
   "source": [
    "use std::net::{TcpListener, TcpStream};\n",
    "\n",
    "let listener = TcpListener::bind(url).unwrap();"
   ]
  },
  {
   "cell_type": "code",
   "execution_count": null,
   "id": "64780909-e1ff-44d1-b0d5-f8aa9e34c81d",
   "metadata": {},
   "outputs": [],
   "source": []
  }
 ],
 "metadata": {
  "language_info": {
   "name": "python",
   "pygments_lexer": "ipython3"
  }
 },
 "nbformat": 4,
 "nbformat_minor": 5
}
