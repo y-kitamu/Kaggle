{
 "cells": [
  {
   "cell_type": "code",
   "execution_count": null,
   "id": "febf20f0-e48e-4ef3-b85d-ad317d709048",
   "metadata": {},
   "outputs": [],
   "source": [
    ":dep tensorflow = { version = \"0.16.0\" }"
   ]
  },
  {
   "cell_type": "code",
   "execution_count": null,
   "id": "25ab1c2c-d749-4293-afb8-865feff33885",
   "metadata": {},
   "outputs": [],
   "source": [
    "extern crate tensorflow;"
   ]
  },
  {
   "cell_type": "code",
   "execution_count": null,
   "id": "6a8757c0-10be-4836-86d6-0b50546727f1",
   "metadata": {},
   "outputs": [],
   "source": []
  }
 ],
 "metadata": {
  "language_info": {
   "name": "python",
   "pygments_lexer": "ipython3"
  }
 },
 "nbformat": 4,
 "nbformat_minor": 5
}
