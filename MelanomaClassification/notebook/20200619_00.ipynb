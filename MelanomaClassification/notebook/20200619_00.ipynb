{
 "cells": [
  {
   "cell_type": "markdown",
   "metadata": {},
   "source": [
    "\n",
    "## 20200619_00\n",
    "efficient net のバグがあるのか確認するために resnet で実験"
   ]
  },
  {
   "cell_type": "code",
   "execution_count": null,
   "metadata": {},
   "outputs": [],
   "source": [
    "import chainer\n",
    "from chainer.dataset import convert\n",
    "from chainercv.links import ResNet50\n",
    "\n",
    "import melanoma\n",
    "\n",
    "title = \"20200619_00\"\n",
    "\n",
    "device = 0\n",
    "batch_size = 16\n",
    "width = 336\n",
    "height = 224\n",
    "epoch = 10\n",
    "n_classes = 2\n",
    "output_dir = melanoma.constants.PROJECT_ROOT / \"results\" / title\n",
    "transfered_weights = None\n",
    "\n",
    "model = ResNet50(n_class=2)\n",
    "loss_func = melanoma.models.loss.get_sigmoid_loss_func(model)\n",
    "optimizer = chainer.optimizers.Adam()\n",
    "predictor = melanoma.predictor.Predictor(model, (width, height))\n",
    "\n",
    "if device >= 0:\n",
    "    model.to_gpu(device)\n",
    "\n",
    "optimizer.setup(model)\n",
    "\n",
    "train_ds, val_ds, test_ds = melanoma.dataset.DatasetBuilder(img_size=(width, height), n_classes=n_classes).build()\n",
    "\n",
    "train_itr = chainer.iterators.MultiprocessIterator(train_ds, batch_size, repeat=True)\n",
    "val_itr = chainer.iterators.MultiprocessIterator(val_ds, batch_size, repeat=False)\n",
    "test_itr = chainer.iterators.MultiprocessIterator(test_ds, batch_size, repeat=False)\n",
    "\n",
    "updater = chainer.training.StandardUpdater(\n",
    "    train_itr, optimizer, converter=convert.concat_examples, loss_func=loss_func, device=device\n",
    ")\n",
    "evaluator = chainer.training.extensions.Evaluator(\n",
    "    val_itr, model, device=device, eval_func=loss_func\n",
    ")\n",
    "trainer = melanoma.trainer.TrainerBuilder(updater, epoch ,evaluator, output_dir).build()\n"
   ]
  },
  {
   "cell_type": "code",
   "execution_count": null,
   "metadata": {},
   "outputs": [],
   "source": [
    "# run train\n",
    "import cProfile\n",
    "\n",
    "profiler = cProfile.Profile()\n",
    "melanoma.utility.start_pdb(\n",
    "    lambda: profiler.runcall(trainer.run)\n",
    ")"
   ]
  },
  {
   "cell_type": "code",
   "execution_count": null,
   "metadata": {},
   "outputs": [],
   "source": [
    "# profiling\n",
    "profiler.print_stats(\"cumulative\")\n",
    "profiler.dump_stats(melanoma.constants.RESULT_DIR / title / \"profile.stat\")"
   ]
  },
  {
   "cell_type": "code",
   "execution_count": null,
   "metadata": {},
   "outputs": [],
   "source": [
    "# evaluation\n",
    "chainer.serializers.load_npz(melanoma.constants.RESULT_DIR / title / \"snapshot_model_{}.npz\".format(epoch), model)\n",
    "if device >= 0:\n",
    "    model.to_gpu()\n",
    "    predictor.to_gpu()\n",
    "test_itr.reset()\n",
    "melanoma.evaluate.evaluate(predictor, \n",
    "                           test_itr,\n",
    "                           [l.name for l in melanoma.constants.Labels],\n",
    "                           output_dir / f\"{title}_eval\",\n",
    "                           device=device,\n",
    "                           )"
   ]
  },
  {
   "cell_type": "code",
   "execution_count": null,
   "metadata": {},
   "outputs": [],
   "source": [
    "# submission\n",
    "npz_footer = epoch\n",
    "chainer.serializers.load_npz(melanoma.constants.RESULT_DIR / title / \"snapshot_model_{}.npz\".format(npz_footer), model)\n",
    "if device >= 0:\n",
    "    model.to_gpu()\n",
    "    predictor.to_gpu()\n",
    "\n",
    "ds = melanoma.dataset.SubmissionDataset(melanoma.dataset.DATASET_ROOT / \"test.csv\")\n",
    "itr = chainer.iterators.MultiprocessIterator(ds, batch_size, repeat=False)\n",
    "melanoma.utility.start_pdb(\n",
    "lambda: melanoma.evaluate.evaluate_submission(predictor, \n",
    "                           itr,\n",
    "                           output_dir / f\"{title}_submission_{npz_footer}\",\n",
    "                           device=device,\n",
    "                          )\n",
    ")\n"
   ]
  }
 ],
 "metadata": {
  "language_info": {
   "name": "python",
   "pygments_lexer": "ipython3"
  }
 },
 "nbformat": 4,
 "nbformat_minor": 4
}
