{
 "cells": [
  {
   "cell_type": "markdown",
   "metadata": {},
   "source": [
    "# 学習率の検討・学習率annealing・adabound"
   ]
  },
  {
   "cell_type": "markdown",
   "metadata": {},
   "source": [
    "## 適切な Learning Rate 探索\n",
    "毎iterationごとに Adam の alpha の値を徐々に大きくしていって、loss, accuracyの変化を観察する  \n",
    "loss の低下が止まる直前の値が最も良さげな値といえる"
   ]
  },
  {
   "cell_type": "code",
   "execution_count": null,
   "metadata": {},
   "outputs": [],
   "source": [
    "# learning rate の scheduler\n",
    "\n",
    "import chainer\n",
    "\n",
    "class LRSchedule(chainer.training.Extension):\n",
    "    def __init__(self, attr, log_range=[1e-5, 1e-4, 1e-3, 1e-2, 1e-1, 1e-0]):\n",
    "        self._attr = attr\n",
    "        self._t = 0\n",
    "        self._log_range = log_range\n",
    "        self._lr_gen = self._lr_generator()\n",
    "\n",
    "    def __call__(self, trainer):\n",
    "        optimizer = trainer.updater.get_optimizer('main')\n",
    "        setattr(optimizer, self._attr, next(self._lr_gen))\n",
    "        \n",
    "    def _lr_generator(self):\n",
    "        for val in self._log_range:\n",
    "            for i in range(1, 100):\n",
    "                yield val * (1 + i / 10)"
   ]
  },
  {
   "cell_type": "code",
   "execution_count": null,
   "metadata": {},
   "outputs": [],
   "source": [
    "import chainer\n",
    "from chainer.dataset import convert\n",
    "from chainer.training import extensions\n",
    "import pandas as pd\n",
    "\n",
    "import melanoma\n",
    "\n",
    "device = 0\n",
    "batch_size = 32\n",
    "width = 336\n",
    "height = 224\n",
    "n_classes = 2\n",
    "iteration = 99 * 6\n",
    "output_dir = melanoma.constants.PROJECT_ROOT / \"results\" / \"lr_inspection\"\n",
    "\n",
    "model = melanoma.models.EfficientNet()\n",
    "loss_func = melanoma.models.loss.SigmoidLoss(model)\n",
    "optimizer = chainer.optimizers.Adam(alpha=1e-5, beta1=0.0, beta2=0.0)\n",
    "\n",
    "if device >= 0:\n",
    "    model.to_gpu(device)\n",
    "\n",
    "optimizer.setup(model)\n",
    "\n",
    "df = pd.read_csv(melanoma.dataset.DATASET_ROOT / \"train.csv\")\n",
    "ds = melanoma.dataset.Dataset(df, n_classes, (width, height), preprocess=melanoma.imageproc.standard_augmentation)\n",
    "itr = chainer.iterators.MultiprocessIterator(ds, batch_size, repeat=True)\n",
    "updater = chainer.training.StandardUpdater(\n",
    "    itr, optimizer, converter=convert.concat_examples, loss_func=loss_func, device=device\n",
    ")\n",
    "trainer = chainer.training.Trainer(updater, (iteration, 'iteration'), out=output_dir)\n",
    "trainer.extend(extensions.observe_lr(), trigger=(1, 'iteration'))\n",
    "trainer.extend(extensions.PrintReport(['iteration', 'lr', 'main/loss', 'main/accuracy']))\n",
    "trainer.extend(extensions.LogReport(trigger=(1, 'iteration')))\n",
    "melanoma.utility.start_pdb(\n",
    "    lambda: trainer.extend(LRSchedule(\"alpha\"))\n",
    ")"
   ]
  },
  {
   "cell_type": "code",
   "execution_count": null,
   "metadata": {},
   "outputs": [],
   "source": [
    "melanoma.utility.start_pdb(\n",
    "    lambda: trainer.run()\n",
    ")\n"
   ]
  },
  {
   "cell_type": "code",
   "execution_count": null,
   "metadata": {},
   "outputs": [],
   "source": [
    "import json\n",
    "\n",
    "with open(output_dir / \"log\") as f:\n",
    "    json_dict = json.load(f)\n",
    "    \n",
    "lrs = [j[\"lr\"] for j in json_dict]\n",
    "losses = [j[\"main/loss\"] for j in json_dict]\n",
    "accs = [j[\"main/accuracy\"] for j in json_dict]    "
   ]
  },
  {
   "cell_type": "markdown",
   "metadata": {},
   "source": [
    "## 結果\n",
    "alpha = 5e-5 あたりが一番良さそう"
   ]
  },
  {
   "cell_type": "code",
   "execution_count": null,
   "metadata": {},
   "outputs": [],
   "source": [
    "import matplotlib.pyplot as plt\n",
    "\n",
    "fig, axes = plt.subplots(1, 2, figsize=(15, 10))\n",
    "axes[0].plot(lrs[:200], losses[:200])\n",
    "axes[0].set_xscale(\"log\")\n",
    "axes[0].set_yscale(\"log\")\n",
    "axes[1].plot(lrs[:200], accs[:200])\n",
    "axes[1].set_xscale(\"log\")"
   ]
  }
 ],
 "metadata": {
  "language_info": {
   "name": "python",
   "pygments_lexer": "ipython3"
  }
 },
 "nbformat": 4,
 "nbformat_minor": 4
}
