{
 "cells": [
  {
   "cell_type": "code",
   "execution_count": null,
   "metadata": {},
   "outputs": [],
   "source": [
    "import chainer\n",
    "from chainer.dataset import convert\n",
    "\n",
    "import melanoma"
   ]
  },
  {
   "cell_type": "code",
   "execution_count": null,
   "metadata": {},
   "outputs": [],
   "source": [
    "device = 0\n",
    "batch_size = 32\n",
    "width = 224\n",
    "height = 224\n",
    "epoch = 10\n",
    "output_dir = \"results\"\n",
    "transfered_weights = None\n",
    "\n",
    "model = melanoma.models.EfficientNet()\n",
    "loss_func = model.loss_func\n",
    "optimizer = chainer.optimizers.Adam()\n",
    "\n",
    "if transfered_weights:\n",
    "    chainer.serializers.load_npz(transfered_weights)\n",
    "\n",
    "if device >= 0:\n",
    "    model.to_gpu(device)\n",
    "\n",
    "optimizer.setup(model)\n",
    "\n",
    "train_ds, val_ds, test_ds = melanoma.utility.start_pdb(\n",
    "    melanoma.dataset.DatasetBuilder(img_size=(width, height), n_classes=2).build\n",
    ")\n",
    "\n",
    "train_itr = chainer.iterators.MultiprocessIterator(train_ds, batch_size, repeat=True)\n",
    "val_itr = chainer.iterators.MultiprocessIterator(val_ds, batch_size, repeat=False)\n",
    "test_itr = chainer.iterators.MultiprocessIterator(test_ds, batch_size, repeat=False)\n",
    "\n",
    "updater = chainer.training.StandardUpdater(\n",
    "    train_itr, optimizer, converter=convert.concat_examples, loss_func=loss_func, device=device\n",
    ")\n",
    "evaluator = chainer.training.extensions.Evaluator(\n",
    "    val_itr, model, device=device, eval_func=loss_func\n",
    ")\n",
    "trainer = melanoma.trainer.TrainerBuilder(updater, epoch ,evaluator, output_dir).build()"
   ]
  },
  {
   "cell_type": "code",
   "execution_count": null,
   "metadata": {},
   "outputs": [],
   "source": [
    "melanoma.utility.start_pdb(\n",
    "    trainer.run\n",
    ")"
   ]
  }
 ],
 "metadata": {
  "language_info": {
   "name": "python",
   "pygments_lexer": "ipython3"
  }
 },
 "nbformat": 4,
 "nbformat_minor": 4
}
