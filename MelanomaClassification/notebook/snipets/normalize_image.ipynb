{
 "cells": [
  {
   "cell_type": "markdown",
   "metadata": {},
   "source": [
    "# 画像の正規化  \n",
    "画像の RGB のスケールを揃える"
   ]
  },
  {
   "cell_type": "code",
   "execution_count": null,
   "metadata": {},
   "outputs": [],
   "source": [
    "import cv2\n",
    "import numpy as np\n",
    "import matplotlib.pyplot as plt\n",
    "from tqdm import tqdm\n",
    "\n",
    "import melanoma"
   ]
  },
  {
   "cell_type": "code",
   "execution_count": null,
   "metadata": {},
   "outputs": [],
   "source": [
    "img_dir = melanoma.constants.DATASET_ROOT / \"Melanoma\" / \"train\" / \"Resized\"\n",
    "img_list = sorted(img_dir.glob(\"*.png\"))"
   ]
  },
  {
   "cell_type": "code",
   "execution_count": null,
   "metadata": {},
   "outputs": [],
   "source": [
    "means = np.zeros(3)\n",
    "for img_path in tqdm(img_list):\n",
    "    img = cv2.imread(str(img_path))\n",
    "    means += np.array([img[:, :, i].mean() for i in range(img.shape[2])])\n",
    "means /= len(img_list)"
   ]
  },
  {
   "cell_type": "code",
   "execution_count": null,
   "metadata": {},
   "outputs": [],
   "source": [
    "varis = np.zeros(3)\n",
    "for mimg_path in tqdm(img_list):\n",
    "    img = cv2.imread(str(img_path))\n",
    "    varis += np.array([((img - means) ** 2)[:, :, i].mean() for i in range(img.shape[2])])\n",
    "varis /= len(img_list)\n",
    "print(varis)"
   ]
  },
  {
   "cell_type": "code",
   "execution_count": null,
   "metadata": {},
   "outputs": [],
   "source": [
    "std = varis ** 0.5"
   ]
  },
  {
   "cell_type": "code",
   "execution_count": null,
   "metadata": {},
   "outputs": [],
   "source": [
    "print(std)\n",
    "print(means)"
   ]
  },
  {
   "cell_type": "code",
   "execution_count": null,
   "metadata": {},
   "outputs": [],
   "source": [
    "img = cv2.imread(str(img_list[0]))\n",
    "\n",
    "img_normalized = melanoma.imageproc.normalize(img)\n",
    "img_clipped = np.clip((img_normalized + 1) / 2, 0, 1)\n",
    "plt.imshow(img[:, :, ::-1])\n",
    "plt.show()\n",
    "plt.imshow(img_clipped[:, :, ::-1])\n",
    "plt.show()"
   ]
  },
  {
   "cell_type": "code",
   "execution_count": null,
   "metadata": {},
   "outputs": [],
   "source": [
    "dst_dir = img_dir.parent / \"Normalized\"\n",
    "dst_dir.mkdir(exist_ok=True)\n",
    "for img_path in tqdm(img_list):\n",
    "    dst_path =  dst_dir / img_path.name\n",
    "    img = cv2.imread(str(img_path))\n",
    "    img_normalized = melanoma.imageproc.normalize(img)\n",
    "    cv2.imwrite(str(dst_path), img_normalized)"
   ]
  },
  {
   "cell_type": "code",
   "execution_count": null,
   "metadata": {},
   "outputs": [],
   "source": [
    "img_normalized"
   ]
  }
 ],
 "metadata": {
  "language_info": {
   "name": "python",
   "pygments_lexer": "ipython3"
  }
 },
 "nbformat": 4,
 "nbformat_minor": 4
}
