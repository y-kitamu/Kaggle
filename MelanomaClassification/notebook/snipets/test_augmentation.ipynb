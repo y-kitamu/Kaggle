{
 "cells": [
  {
   "cell_type": "code",
   "execution_count": null,
   "metadata": {},
   "outputs": [],
   "source": [
    "import importlib\n",
    "import numpy as np\n",
    "import matplotlib.pyplot as plt\n",
    "\n",
    "import melanoma"
   ]
  },
  {
   "cell_type": "code",
   "execution_count": null,
   "metadata": {},
   "outputs": [],
   "source": [
    "ds, _, _ = melanoma.dataset.DatasetBuilder(img_size=(336, 224), n_classes=2).build()\n",
    "img, label = ds.get_example(1)\n",
    "img = img.transpose(1, 2, 0).astype(np.uint8)\n",
    "plt.imshow(img[:, :, :])"
   ]
  },
  {
   "cell_type": "code",
   "execution_count": null,
   "metadata": {},
   "outputs": [],
   "source": [
    "importlib.reload(melanoma.imageproc)\n",
    "img, _ = ds.get_example(1)\n",
    "img = img.transpose(1, 2, 0).astype(np.uint8)\n",
    "std_aug_img = melanoma.imageproc.standard_augmentation(img)\n",
    "plt.imshow(img[:, :, ::-1])"
   ]
  }
 ],
 "metadata": {
  "language_info": {
   "name": "python",
   "pygments_lexer": "ipython3"
  }
 },
 "nbformat": 4,
 "nbformat_minor": 4
}
