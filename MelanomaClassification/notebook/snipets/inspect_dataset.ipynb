{
 "cells": [
  {
   "cell_type": "code",
   "execution_count": null,
   "metadata": {},
   "outputs": [],
   "source": [
    "import numpy as np\n",
    "import pandas as pd\n",
    "import matplotlib.pyplot as plt\n",
    "import seaborn as sns\n",
    "\n",
    "import melanoma"
   ]
  },
  {
   "cell_type": "code",
   "execution_count": null,
   "metadata": {},
   "outputs": [],
   "source": [
    "def encode_categorylabel(df, header):\n",
    "    class_mapping = {key: idx for idx, key in enumerate(df[header].unique())}\n",
    "    df[header] = df[header].map(class_mapping)\n",
    "    return df"
   ]
  },
  {
   "cell_type": "code",
   "execution_count": null,
   "metadata": {},
   "outputs": [],
   "source": [
    "train_df.head()"
   ]
  },
  {
   "cell_type": "code",
   "execution_count": null,
   "metadata": {},
   "outputs": [],
   "source": [
    "train_df = pd.read_csv(melanoma.constants.DATASET_ROOT / \"Melanoma\" / \"train.csv\")\n",
    "test_df = pd.read_csv(melanoma.constants.DATASET_ROOT / \"Melanoma\" / \"test.csv\")\n",
    "\n",
    "# category_header = [\"sex\", \"anatom_site_general_challenge\", \"diagnosis\"]\n",
    "# for header in category_header:\n",
    "#     encode_categorylabel(train_df, header)"
   ]
  },
  {
   "cell_type": "code",
   "execution_count": null,
   "metadata": {},
   "outputs": [],
   "source": [
    "train_df.anatom_site_general_challenge.unique()"
   ]
  },
  {
   "cell_type": "code",
   "execution_count": null,
   "metadata": {},
   "outputs": [],
   "source": [
    "cols = [\"sex\", \"age_approx\", \"anatom_site_general_challenge\", \"diagnosis\", \"target\"]\n",
    "sns.pairplot(train_df)\n",
    "plt.show()"
   ]
  }
 ],
 "metadata": {
  "language_info": {
   "name": "python",
   "pygments_lexer": "ipython3"
  }
 },
 "nbformat": 4,
 "nbformat_minor": 4
}
