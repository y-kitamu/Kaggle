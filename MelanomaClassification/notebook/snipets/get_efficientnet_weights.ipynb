{
 "cells": [
  {
   "cell_type": "code",
   "execution_count": null,
   "metadata": {},
   "outputs": [],
   "source": [
    "from efficientnet_pytorch import EfficientNet\n",
    "\n",
    "model = EfficientNet.from_pretrained(\"efficientnet-b3\")"
   ]
  },
  {
   "cell_type": "code",
   "execution_count": null,
   "metadata": {},
   "outputs": [],
   "source": [
    "def convert(name):\n",
    "    if name == \"weight\":\n",
    "        return \"W\"\n",
    "    if name == \"bias\":\n",
    "        return \"b\"\n",
    "    return name\n",
    "\n",
    "kwargs = {}\n",
    "for name, param in model.named_parameters():\n",
    "    npz_name = \"/\".join([convert(n) for n in name.split(\".\")])\n",
    "    kwargs[npz_name] = param.detach().numpy()\n",
    "    if \"_se_expand/W\" in npz_name or \"_se_reduce/W\" in npz_name:\n",
    "        kwargs[npz_name] = kwargs[npz_name][:, :, 0, 0]"
   ]
  },
  {
   "cell_type": "code",
   "execution_count": null,
   "metadata": {},
   "outputs": [],
   "source": [
    "import chainer\n",
    "import melanoma\n",
    "\n",
    "weights = np.load(\"./efficientnetb3.npz\")\n",
    "\n",
    "def load_weights(model, name=\"\"):\n",
    "    for child in model.children():\n",
    "        if isinstance(child, chainer.Chain):\n",
    "            load_weights(child, f\"{name}/{child.name}\")\n",
    "        elif isinstance(child, chainer.ChainList):\n",
    "            for c in child:\n",
    "                load_weights(c, f\"{name}/{child.name}/{c.name}\")\n",
    "        elif isinstance(child, chainer.Link):\n",
    "            for n, p in child.namedparams():\n",
    "                param_name = f\"{name}/{child.name}{n}\"[1:]\n",
    "                if param_name not in weights:\n",
    "                    print(f\"{param_name} does not exist\")\n",
    "                    continue\n",
    "                if p.data is None and param_name in weights:\n",
    "                    print(f\"initialize parameter : {param_name}\")\n",
    "                    p.initialize(weights[param_name].shape)\n",
    "                if p.data.shape != weights[param_name].shape:\n",
    "                    print(f\"shape mismatch : {param_name}. Skip\")\n",
    "                    continue\n",
    "                p.data[...] = weights[param_name]\n",
    "                print(f\"Load weight {param_name}\")\n",
    "                \n",
    "                \n",
    "chainer_model = melanoma.models.EfficientNet(global_params=melanoma.models.EfficientNetB3)\n",
    "load_weights(chainer_model)                "
   ]
  },
  {
   "cell_type": "code",
   "execution_count": null,
   "metadata": {},
   "outputs": [],
   "source": [
    "chainer.serializers.save_npz(\"efficientnetb3_chainer.npz\", chainer_model)"
   ]
  }
 ],
 "metadata": {
  "language_info": {
   "name": "python",
   "pygments_lexer": "ipython3"
  }
 },
 "nbformat": 4,
 "nbformat_minor": 4
}
