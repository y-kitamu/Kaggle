{
 "cells": [
  {
   "cell_type": "markdown",
   "metadata": {},
   "source": [
    "\n",
    "## 20200616_00\n"
   ]
  },
  {
   "cell_type": "code",
   "execution_count": null,
   "metadata": {},
   "outputs": [],
   "source": [
    "import chainer\n",
    "from chainer.dataset import convert\n",
    "\n",
    "import melanoma\n",
    "\n",
    "title = \"20200616_00\"\n",
    "\n",
    "device = 0\n",
    "batch_size = 32\n",
    "width = 336\n",
    "height = 224\n",
    "epoch = 20\n",
    "n_classes = 2\n",
    "output_dir = melanoma.constants.PROJECT_ROOT / \"results\" / title\n",
    "transfered_weights = None\n",
    "\n",
    "train_ds, val_ds, test_ds = melanoma.dataset.DatasetBuilder(img_size=(width, height), n_classes=n_classes).build()\n",
    "\n",
    "model = melanoma.models.EfficientNetCW(class_weights=train_ds.get_class_weights())\n",
    "loss_func = model.loss_func\n",
    "optimizer = chainer.optimizers.Adam()\n",
    "predictor = melanoma.predictor.Predictor(model, (width, height))\n",
    "\n",
    "if device >= 0:\n",
    "    model.to_gpu(device)\n",
    "\n",
    "optimizer.setup(model)\n",
    "\n",
    "train_itr = chainer.iterators.MultiprocessIterator(train_ds, batch_size, repeat=True)\n",
    "val_itr = chainer.iterators.MultiprocessIterator(val_ds, batch_size, repeat=False)\n",
    "test_itr = chainer.iterators.MultiprocessIterator(test_ds, batch_size, repeat=False)\n",
    "\n",
    "updater = chainer.training.StandardUpdater(\n",
    "    train_itr, optimizer, converter=convert.concat_examples, loss_func=loss_func, device=device\n",
    ")\n",
    "evaluator = chainer.training.extensions.Evaluator(\n",
    "    val_itr, model, device=device, eval_func=loss_func\n",
    ")\n",
    "trainer = melanoma.trainer.TrainerBuilder(updater, epoch ,evaluator, output_dir).build()\n"
   ]
  },
  {
   "cell_type": "code",
   "execution_count": null,
   "metadata": {},
   "outputs": [],
   "source": [
    "train_ds.get_class_weights()"
   ]
  },
  {
   "cell_type": "code",
   "execution_count": null,
   "metadata": {},
   "outputs": [],
   "source": [
    "# run train\n",
    "import cProfile\n",
    "\n",
    "profiler = cProfile.Profile()\n",
    "profiler.runcall(trainer.run)"
   ]
  },
  {
   "cell_type": "code",
   "execution_count": null,
   "metadata": {},
   "outputs": [],
   "source": [
    " evaluation\n",
    "chainer.serializers.load_npz(melanoma.constants.RESULT_DIR / title / \"snapshot_main_model_{}.npz\".format(epoch), model)\n",
    "melanoma.evaluate(predictor, \n",
    "                  test_itr,\n",
    "                  [l.name for l in melanoma.constants.Labels],\n",
    "                  output_dir / f\"{title}_eval\",\n",
    "                  device=device,\n",
    "                 )"
   ]
  },
  {
   "cell_type": "code",
   "execution_count": null,
   "metadata": {},
   "outputs": [],
   "source": []
  },
  {
   "cell_type": "code",
   "execution_count": null,
   "metadata": {},
   "outputs": [],
   "source": [
    "# profiling"
   ]
  },
  {
   "cell_type": "code",
   "execution_count": null,
   "metadata": {},
   "outputs": [],
   "source": [
    "profiler.print_stats(\"cumulative\")\n",
    "profiler.dump_stats(\"efficientnet_v3_profile.stat\")"
   ]
  },
  {
   "cell_type": "code",
   "execution_count": null,
   "metadata": {},
   "outputs": [],
   "source": [
    "profiler.print_stats(\"cumulative\")"
   ]
  },
  {
   "cell_type": "code",
   "execution_count": null,
   "metadata": {},
   "outputs": [],
   "source": [
    "profiler.print_stats(\"cumulative\")"
   ]
  }
 ],
 "metadata": {
  "language_info": {
   "name": "python",
   "pygments_lexer": "ipython3"
  }
 },
 "nbformat": 4,
 "nbformat_minor": 4
}
