{
 "cells": [
  {
   "cell_type": "code",
   "execution_count": null,
   "metadata": {},
   "outputs": [],
   "source": [
    "import os\n",
    "import shutil\n",
    "\n",
    "import tensorflow as tf\n",
    "import pandas as pd\n",
    "from tqdm import tqdm\n",
    "import numpy as np\n",
    "\n",
    "import src"
   ]
  },
  {
   "cell_type": "code",
   "execution_count": null,
   "metadata": {},
   "outputs": [],
   "source": [
    "dst_root_dir = \"../data/\"\n",
    "\n",
    "df = pd.read_csv(src.constant.TRAIN_CSV)\n",
    "for label in sorted(df.label.unique()):\n",
    "    dst_dir = os.path.join(dst_root_dir, str(label))\n",
    "    os.makedirs(dst_dir, exist_ok=True)\n",
    "    for fname in tqdm(df[df.label == label].image_id.to_numpy()):\n",
    "        src_fname = os.path.join(src.constant.TRAIN_DATA_DIR, fname)\n",
    "        dst_fname = os.path.join(dst_dir, fname)\n",
    "        shutil.copy(src_fname, dst_fname)"
   ]
  },
  {
   "cell_type": "code",
   "execution_count": null,
   "metadata": {},
   "outputs": [],
   "source": [
    "cfg = src.utility.load_config(config_name=\"config_v1.yaml\")\n",
    "cfg.gpu = 1\n",
    "src.utility.set_gpu(cfg.gpu)\n",
    "\n",
    "model = src.model.get_model(cfg)"
   ]
  },
  {
   "cell_type": "code",
   "execution_count": null,
   "metadata": {},
   "outputs": [],
   "source": [
    "model.summary()"
   ]
  },
  {
   "cell_type": "code",
   "execution_count": null,
   "metadata": {},
   "outputs": [],
   "source": []
  },
  {
   "cell_type": "code",
   "execution_count": null,
   "metadata": {},
   "outputs": [],
   "source": [
    "cfg = src.utility.load_config(config_name=\"config_v1.yaml\")\n",
    "cfg.gpu = 1\n",
    "src.utility.set_gpu(cfg.gpu)\n",
    "\n",
    "tds, vds = src.dataset.get_train_val_dataset(cfg, is_train=True)"
   ]
  },
  {
   "cell_type": "code",
   "execution_count": null,
   "metadata": {},
   "outputs": [],
   "source": [
    "imgs, labels = next(tds)\n",
    "src.visualize.plot.plot_batch_images(imgs.astype(np.uint8), labels, cols=5)"
   ]
  },
  {
   "cell_type": "code",
   "execution_count": null,
   "metadata": {},
   "outputs": [],
   "source": [
    "img = imgs[0]\n",
    "noised = src.dataset.random_noise(img)"
   ]
  },
  {
   "cell_type": "code",
   "execution_count": null,
   "metadata": {},
   "outputs": [],
   "source": [
    "import matplotlib.pyplot as plt\n",
    "plt.imshow(noised[:, :, ::-1])"
   ]
  },
  {
   "cell_type": "code",
   "execution_count": null,
   "metadata": {},
   "outputs": [],
   "source": []
  }
 ],
 "metadata": {
  "language_info": {
   "name": "python",
   "pygments_lexer": "ipython3"
  }
 },
 "nbformat": 4,
 "nbformat_minor": 4
}
