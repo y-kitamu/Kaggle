{
 "cells": [
  {
   "cell_type": "code",
   "execution_count": null,
   "id": "b8f136b2",
   "metadata": {},
   "outputs": [],
   "source": [
    "import clef"
   ]
  },
  {
   "cell_type": "code",
   "execution_count": null,
   "id": "4ea2aac9",
   "metadata": {},
   "outputs": [],
   "source": [
    "task_conf = clef.config.clef_definitions.TaskConfig()\n",
    "controller_conf = clef.config.base_definitions.ControllerConfig(task=task_conf)\n",
    "clef.config.export_dataclass_to_yaml(controller_conf, str(clef.constant.PARAM_PATH / \"sample.yaml\"))"
   ]
  },
  {
   "cell_type": "code",
   "execution_count": null,
   "id": "9400bf63",
   "metadata": {},
   "outputs": [],
   "source": [
    "config = clef.config.read_cfg(clef.constant.PARAM_PATH / \"v0.yaml\")\n",
    "task = clef.tasks.ClefTask(config.task)"
   ]
  },
  {
   "cell_type": "code",
   "execution_count": null,
   "id": "f632bb59",
   "metadata": {},
   "outputs": [],
   "source": [
    "clef.utility.run_debug(\n",
    "    lambda: task.create_tfrecords()\n",
    ")"
   ]
  },
  {
   "cell_type": "code",
   "execution_count": null,
   "id": "3676536c",
   "metadata": {},
   "outputs": [],
   "source": []
  }
 ],
 "metadata": {
  "language_info": {
   "name": "python",
   "pygments_lexer": "ipython3"
  }
 },
 "nbformat": 4,
 "nbformat_minor": 5
}
