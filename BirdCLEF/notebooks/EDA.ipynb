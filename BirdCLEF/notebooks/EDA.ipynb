{
 "cells": [
  {
   "cell_type": "markdown",
   "id": "cc70c7c4",
   "metadata": {},
   "source": [
    "# データの可視化"
   ]
  },
  {
   "cell_type": "code",
   "execution_count": null,
   "id": "55364c30",
   "metadata": {},
   "outputs": [],
   "source": [
    "import numpy as np\n",
    "import pandas as pd\n",
    "import matplotlib.pyplot as plt\n",
    "from tqdm import tqdm\n",
    "\n",
    "import tensorflow as tf\n",
    "import tensorflow_io as tfio\n",
    "\n",
    "import clef"
   ]
  },
  {
   "cell_type": "markdown",
   "id": "1051927a",
   "metadata": {},
   "source": [
    "## 1. CSVデータの可視化、データ数のカウント"
   ]
  },
  {
   "cell_type": "markdown",
   "id": "f09115b4",
   "metadata": {},
   "source": [
    "## 1.1 csvファイルの読み込み"
   ]
  },
  {
   "cell_type": "code",
   "execution_count": null,
   "id": "a9f32cec",
   "metadata": {},
   "outputs": [],
   "source": [
    "train_metadata = pd.read_csv(clef.constant.TRAIN_METADATA_CSV_PATH)\n",
    "print(\"species = {}\".format(len(train_metadata.primary_label.unique())))\n",
    "train_metadata.head()"
   ]
  },
  {
   "cell_type": "markdown",
   "id": "1ab7ce5f",
   "metadata": {},
   "source": [
    "## 1.2 ディレクトリの数カウント"
   ]
  },
  {
   "cell_type": "code",
   "execution_count": null,
   "id": "89ae2a0b",
   "metadata": {},
   "outputs": [],
   "source": [
    "bird_sounds_dirs = [path for path in clef.constant.TRAIN_SHORT_AUDIO_PATH.glob(\"*\") if path.is_dir()]\n",
    "print(\"num of dirs = {}\".format(len(bird_sounds_dirs)))"
   ]
  },
  {
   "cell_type": "markdown",
   "id": "19aa6477",
   "metadata": {},
   "source": [
    "## 1.3 各クラスごとのデータ数"
   ]
  },
  {
   "cell_type": "code",
   "execution_count": null,
   "id": "4943e237",
   "metadata": {},
   "outputs": [],
   "source": [
    "bird_count_dict = {name: 0 for name in train_metadata.primary_label.unique()}\n",
    "for name in train_metadata.primary_label:\n",
    "    bird_count_dict[name] += 1\n",
    "\n",
    "counts = np.array(list(bird_count_dict.values()))\n",
    "print(\"min = {}, max = {}\".format(counts.min(), counts.max()))\n",
    "plt.hist(bird_count_dict.values(), bins=50)"
   ]
  },
  {
   "cell_type": "markdown",
   "id": "5be74dfa",
   "metadata": {},
   "source": [
    "## 1.4 データをスペクトルグラムに変換"
   ]
  },
  {
   "cell_type": "code",
   "execution_count": null,
   "id": "9047cc2c",
   "metadata": {},
   "outputs": [],
   "source": [
    "def convert_audio_to_spectrogram(audio_path, nfft=1024, window=1600, stride=1600):\n",
    "    audio = tfio.audio.AudioIOTensor(str(audio_path))\n",
    "    audio_tensor = tf.squeeze(audio[:], axis=[-1])\n",
    "    spectrogram = tfio.experimental.audio.spectrogram(\n",
    "        audio_tensor, nfft=nfft, window=window, stride=stride)\n",
    "    return audio_tensor.numpy(), spectrogram.numpy().T"
   ]
  },
  {
   "cell_type": "code",
   "execution_count": null,
   "id": "4e31317e",
   "metadata": {},
   "outputs": [],
   "source": [
    "def plot_spectrogram_per_frame(spectrogram, window, stride, num_cols=3):\n",
    "    print(\"time series = {}, window = {}, stride = {}\".format(spectrogram.shape[1], window, stride))\n",
    "    num_plot = int((spectrogram.shape[1] - window) / stride)\n",
    "    num_rows = max(2, int((num_plot + num_cols - 1) / num_cols))\n",
    "    fig, axes = plt.subplots(nrows=num_rows, ncols=num_cols, figsize=(num_cols * 5, num_rows * 5))\n",
    "    print(num_plot)\n",
    "    for i in range(num_plot):\n",
    "        axes[int(i / num_cols)][i % num_cols].imshow(\n",
    "            spectrogram[:, i * stride: i * stride + window])"
   ]
  },
  {
   "cell_type": "code",
   "execution_count": null,
   "id": "2609bbf4",
   "metadata": {},
   "outputs": [],
   "source": [
    "def show_spectrograms(train_metadata, idx, nfft, fft_window, fft_stride):\n",
    "    row = train_metadata.iloc[idx]\n",
    "    filepath = clef.constant.TRAIN_SHORT_AUDIO_PATH / row.primary_label / row.filename\n",
    "    print(\"filename = {}\".format(str(filepath)))\n",
    "    audio_array, spectrogram = convert_audio_to_spectrogram(\n",
    "        filepath, nfft=nfft, window=fft_window, stride=fft_stride)\n",
    "    window = int(clef.constant.TEST_STRIDE_SEC * clef.constant.AUDIO_HELTZ / fft_window)\n",
    "    stride = int(window / 2)\n",
    "    plot_spectrogram_per_frame(np.log(spectrogram), window, stride)\n",
    "    return spectrogram"
   ]
  },
  {
   "cell_type": "code",
   "execution_count": null,
   "id": "c857401a",
   "metadata": {},
   "outputs": [],
   "source": [
    "nfft = 512\n",
    "fft_window = 1600\n",
    "fft_stride = 1600"
   ]
  },
  {
   "cell_type": "code",
   "execution_count": null,
   "id": "3e8d3abc",
   "metadata": {},
   "outputs": [],
   "source": [
    "_ = show_spectrograms(train_metadata, 0, nfft, fft_window, fft_stride)"
   ]
  },
  {
   "cell_type": "code",
   "execution_count": null,
   "id": "5d7139f2",
   "metadata": {},
   "outputs": [],
   "source": [
    "spec = show_spectrograms(train_metadata, 1, nfft, fft_window, fft_stride)"
   ]
  },
  {
   "cell_type": "code",
   "execution_count": null,
   "id": "076c3d2a",
   "metadata": {},
   "outputs": [],
   "source": [
    "spec.shape"
   ]
  },
  {
   "cell_type": "code",
   "execution_count": null,
   "id": "a041dcc1",
   "metadata": {},
   "outputs": [],
   "source": [
    "a = [1, 2, 3 ,4 ,5]"
   ]
  }
 ],
 "metadata": {
  "language_info": {
   "name": "python",
   "pygments_lexer": "ipython3"
  }
 },
 "nbformat": 4,
 "nbformat_minor": 5
}
