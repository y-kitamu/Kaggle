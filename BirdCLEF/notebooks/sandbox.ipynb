{
 "cells": [
  {
   "cell_type": "code",
   "execution_count": null,
   "id": "0fa0d741",
   "metadata": {},
   "outputs": [],
   "source": [
    "import logging\n",
    "\n",
    "import tensorflow as tf\n",
    "\n",
    "import clef\n",
    "\n",
    "logging.getLogger().setLevel(logging.DEBUG)\n",
    "clef.enable_logging_to_file(\"test.log\")\n",
    "tf.executing_eagerly()"
   ]
  },
  {
   "cell_type": "code",
   "execution_count": null,
   "id": "d7055e03",
   "metadata": {},
   "outputs": [],
   "source": [
    "clef.logger.info(tf.config.list_physical_devices(\"GPU\"))\n",
    "clef.utility.run_debug(\n",
    "    lambda: clef.utility.set_gpu([0, 1])\n",
    ")"
   ]
  },
  {
   "cell_type": "code",
   "execution_count": null,
   "id": "fdea9b19",
   "metadata": {},
   "outputs": [],
   "source": [
    "con_conf = clef.config_definitions.ControllerConfig.from_yaml(\"sample_conf.yml\")\n",
    "task = clef.task.MnistTask(con_conf.task)\n",
    "trainer = clef.trainer.Trainer(con_conf.trainer, task)\n",
    "controller = clef.controller.Controller(con_conf, trainer)"
   ]
  },
  {
   "cell_type": "code",
   "execution_count": null,
   "id": "0b4f6d7f",
   "metadata": {},
   "outputs": [],
   "source": [
    "clef.utility.run_debug(\n",
    "    lambda: controller.train()\n",
    ")"
   ]
  },
  {
   "cell_type": "code",
   "execution_count": null,
   "id": "ff357f76",
   "metadata": {},
   "outputs": [],
   "source": []
  },
  {
   "cell_type": "code",
   "execution_count": null,
   "id": "df31404c",
   "metadata": {},
   "outputs": [],
   "source": [
    "!pip install hydra-core"
   ]
  },
  {
   "cell_type": "code",
   "execution_count": null,
   "id": "010a6930",
   "metadata": {},
   "outputs": [],
   "source": [
    "import os\n",
    "from dataclasses import dataclass\n",
    "\n",
    "from hydra.experimental import compose, initialize\n",
    "from omegaconf import OmegaConf\n",
    "\n",
    "import clef"
   ]
  },
  {
   "cell_type": "code",
   "execution_count": null,
   "id": "ca16e83b",
   "metadata": {},
   "outputs": [],
   "source": [
    "from omegaconf import DictConfig"
   ]
  },
  {
   "cell_type": "code",
   "execution_count": null,
   "id": "0202924b",
   "metadata": {},
   "outputs": [],
   "source": [
    "def read_cfg(filename):\n",
    "    cur_dir = os.getcwd()\n",
    "    file_dir = os.path.dirname(filename)\n",
    "    rel_file_dir = os.path.relpath(file_dir, cur_dir)\n",
    "    with initialize(config_path=rel_file_dir):\n",
    "        cfg = compose(config_name=os.path.basename(filename).split(\".\")[0])\n",
    "        print(OmegaConf.to_yaml(cfg))\n",
    "    return cfg"
   ]
  },
  {
   "cell_type": "code",
   "execution_count": null,
   "id": "d50e277c",
   "metadata": {},
   "outputs": [],
   "source": [
    "yaml_file = \"/home/kitamura/work/Kaggle/BirdCLEF/params/sample.yaml\"\n",
    "cfg = read_cfg(yaml_file)"
   ]
  },
  {
   "cell_type": "code",
   "execution_count": null,
   "id": "18e9e8ac",
   "metadata": {},
   "outputs": [],
   "source": [
    "conf1 = clef.config_definitions.ControllerConfig()"
   ]
  },
  {
   "cell_type": "code",
   "execution_count": null,
   "id": "4a1405c4",
   "metadata": {},
   "outputs": [],
   "source": [
    "conf1.task.optimizer.__dict__"
   ]
  },
  {
   "cell_type": "code",
   "execution_count": null,
   "id": "5f1c8804",
   "metadata": {},
   "outputs": [],
   "source": [
    "bird_list = sorted([path.name for path in clef.constant.TRAIN_SHORT_AUDIO_PATH.glob(\"*\") if path.is_dir()])"
   ]
  },
  {
   "cell_type": "code",
   "execution_count": null,
   "id": "ad3c20f1",
   "metadata": {},
   "outputs": [],
   "source": [
    "bird_idx_dict = {name: idx for idx, name in enumerate(bird_list)}"
   ]
  },
  {
   "cell_type": "code",
   "execution_count": null,
   "id": "d0f8605e",
   "metadata": {},
   "outputs": [],
   "source": [
    "bird_idx_dict"
   ]
  },
  {
   "cell_type": "code",
   "execution_count": null,
   "id": "0ac774fb",
   "metadata": {},
   "outputs": [],
   "source": []
  }
 ],
 "metadata": {
  "language_info": {
   "name": "python",
   "pygments_lexer": "ipython3"
  }
 },
 "nbformat": 4,
 "nbformat_minor": 5
}
